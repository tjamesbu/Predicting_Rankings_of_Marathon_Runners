{
 "cells": [
  {
   "cell_type": "code",
   "execution_count": 1,
   "id": "8620d022-b4d1-4251-bc5c-4cf9aaa406c6",
   "metadata": {},
   "outputs": [
    {
     "data": {
      "text/plain": [
       "sequence_id                           event.id                            \n",
       "57bdcd1f-a474-43e0-8e54-5f3a5206f5f9  57bdcd1f-a474-43e0-8e54-5f3a5206f5f9    3259\n",
       "                                      59a99331-e614-4004-8634-16bc5206f5f9    3772\n",
       "5e862221-758c-48b1-a7cf-11bcc0a80a41  5e862221-758c-48b1-a7cf-11bcc0a80a41     194\n",
       "                                      5e8622bc-0ef4-472a-a19b-6f4bc0a80a41     268\n",
       "                                      5e862439-c108-40be-b3ec-36b6c0a80a41     404\n",
       "dtype: int64"
      ]
     },
     "execution_count": 1,
     "metadata": {},
     "output_type": "execute_result"
    }
   ],
   "source": [
    "# Using external data in sklearn pipelines\n",
    "\n",
    "# Sometimes when I am building a pipeline I want to include in it data which will\n",
    "# not be available in the holdout dataset but which is still useful for the modeling\n",
    "# task. For instance, from historical data I might want to build new features that\n",
    "# describe trends that augment the holdout system data. In this assignment, you can\n",
    "# imagine that historical trends for individual events, sequences of events, or\n",
    "# runners might be useful.\n",
    "\n",
    "# Here's an example, starting with our usual test/holdout data\n",
    "import pandas as pd\n",
    "import numpy as np\n",
    "import cloudpickle\n",
    "import sklearn\n",
    "df=pd.read_csv(\"../../assets/assignment/df_train.csv.gz\")\n",
    "\n",
    "# We are going to regress on time\n",
    "df['x_result.duration.chip']=pd.to_timedelta(df['result.duration.chip']).astype(int)\n",
    "\n",
    "# For this demo we are going to use the sequence identifiers, let's look at a\n",
    "# couple I hand picked\n",
    "data=df.query('sequence_id in [\"5e862221-758c-48b1-a7cf-11bcc0a80a41\",\"57bdcd1f-a474-43e0-8e54-5f3a5206f5f9\"]')\n",
    "data.groupby(['sequence_id','event.id']).apply(len)"
   ]
  },
  {
   "cell_type": "code",
   "execution_count": 2,
   "id": "5ef1a4b2-9224-48d9-8639-bd32f1608afb",
   "metadata": {},
   "outputs": [],
   "source": [
    "# We see that these two sequences have historical event data, and different numbers of runners\n",
    "# so lets separate this into a training and validation set\n",
    "train=data.query(\"`event.id` in ['57bdcd1f-a474-43e0-8e54-5f3a5206f5f9', '5e862221-758c-48b1-a7cf-11bcc0a80a41']\")\n",
    "test=data.query(\"`event.id` not in ['57bdcd1f-a474-43e0-8e54-5f3a5206f5f9', '5e862221-758c-48b1-a7cf-11bcc0a80a41']\")"
   ]
  },
  {
   "cell_type": "code",
   "execution_count": 3,
   "id": "84d50c1f-358c-4752-a0bc-521fb495ce0d",
   "metadata": {},
   "outputs": [
    {
     "data": {
      "text/plain": [
       "sequence_id\n",
       "57bdcd1f-a474-43e0-8e54-5f3a5206f5f9    0.320344\n",
       "5e862221-758c-48b1-a7cf-11bcc0a80a41    0.376289\n",
       "dtype: float64"
      ]
     },
     "execution_count": 3,
     "metadata": {},
     "output_type": "execute_result"
    }
   ],
   "source": [
    "# Let's say that I want to include in my pipeline the ratio of men to non-men\n",
    "# in the race. I can create that with the following:\n",
    "sequence_stats=train.groupby(['sequence_id','event.id']).apply(lambda x: sum(x['sex']=='Male')/len(x)).groupby(['sequence_id']).apply(np.mean)\n",
    "sequence_stats"
   ]
  },
  {
   "cell_type": "code",
   "execution_count": 4,
   "id": "9d7998f2-d4e1-4b1c-b525-04d1d7bd6dd5",
   "metadata": {},
   "outputs": [],
   "source": [
    "# To embed this data in my pipeline, I need to add it to one of the steps - either\n",
    "# a transformer or an estimator - as an object. Then when this gets serialized as\n",
    "# part of the pickle process it will be there for estimation. Let's create a new\n",
    "# transformer which does this, our strategy will be that the __init__ function\n",
    "# will calculate our sequence stats data and store it in the object, while our\n",
    "# transform function will add that to unseen data as a column\n",
    "import numpy as np\n",
    "\n",
    "class SequenceSexRatio(sklearn.base.TransformerMixin, sklearn.base.BaseEstimator):\n",
    "    \n",
    "    # this will be called when we first make our pipeline, so we can store things\n",
    "    def __init__(self, train):\n",
    "        # as we want to visualize this later we have to have something in the train\n",
    "        # attribute, which is the parameter to this function. I'll just make this the \n",
    "        # first row of the data coming in.\n",
    "        self.train=train.iloc[0]\n",
    "        \n",
    "        self.sequence_stats=train.groupby(['sequence_id','event.id']).apply(\n",
    "            lambda x: sum(x['sex']=='Male')/len(x)).groupby(['sequence_id']).apply(np.mean)\n",
    "        # you need to name a series in order to merge it later\n",
    "        self.sequence_stats.name='sex_sequence_ratio'\n",
    "    \n",
    "    # this does nothing interesting\n",
    "    def fit(self, data=None, y=None):\n",
    "        return self\n",
    "    \n",
    "    # this will be called when we want to predict our data, since it will transform\n",
    "    def transform(self, data):\n",
    "        # we can print out some diagnostics here, let's check how many sequences in the\n",
    "        # data we are trying to transform existing in our historical dataset\n",
    "        print(f'The number of sequences which are also in our historical data are {len(set(data[\"sequence_id\"].unique()).intersection(self.sequence_stats.index))}')\n",
    "        # align on index via a left join\n",
    "        newdata=pd.merge(data,self.sequence_stats,left_on='sequence_id',right_index=True,how='left')\n",
    "        # set our new sex_sequence_ratio column \n",
    "        data['SequenceSexRatio']=newdata['sex_sequence_ratio']\n",
    "        # return all of the data to the next stage of the pipeline\n",
    "        return data\n",
    "    \n",
    "    "
   ]
  },
  {
   "cell_type": "code",
   "execution_count": 5,
   "id": "60d6efa8-d2a7-45a3-89f5-e966cb173e6e",
   "metadata": {},
   "outputs": [
    {
     "data": {
      "text/html": [
       "<style>#sk-container-id-1 {color: black;background-color: white;}#sk-container-id-1 pre{padding: 0;}#sk-container-id-1 div.sk-toggleable {background-color: white;}#sk-container-id-1 label.sk-toggleable__label {cursor: pointer;display: block;width: 100%;margin-bottom: 0;padding: 0.3em;box-sizing: border-box;text-align: center;}#sk-container-id-1 label.sk-toggleable__label-arrow:before {content: \"▸\";float: left;margin-right: 0.25em;color: #696969;}#sk-container-id-1 label.sk-toggleable__label-arrow:hover:before {color: black;}#sk-container-id-1 div.sk-estimator:hover label.sk-toggleable__label-arrow:before {color: black;}#sk-container-id-1 div.sk-toggleable__content {max-height: 0;max-width: 0;overflow: hidden;text-align: left;background-color: #f0f8ff;}#sk-container-id-1 div.sk-toggleable__content pre {margin: 0.2em;color: black;border-radius: 0.25em;background-color: #f0f8ff;}#sk-container-id-1 input.sk-toggleable__control:checked~div.sk-toggleable__content {max-height: 200px;max-width: 100%;overflow: auto;}#sk-container-id-1 input.sk-toggleable__control:checked~label.sk-toggleable__label-arrow:before {content: \"▾\";}#sk-container-id-1 div.sk-estimator input.sk-toggleable__control:checked~label.sk-toggleable__label {background-color: #d4ebff;}#sk-container-id-1 div.sk-label input.sk-toggleable__control:checked~label.sk-toggleable__label {background-color: #d4ebff;}#sk-container-id-1 input.sk-hidden--visually {border: 0;clip: rect(1px 1px 1px 1px);clip: rect(1px, 1px, 1px, 1px);height: 1px;margin: -1px;overflow: hidden;padding: 0;position: absolute;width: 1px;}#sk-container-id-1 div.sk-estimator {font-family: monospace;background-color: #f0f8ff;border: 1px dotted black;border-radius: 0.25em;box-sizing: border-box;margin-bottom: 0.5em;}#sk-container-id-1 div.sk-estimator:hover {background-color: #d4ebff;}#sk-container-id-1 div.sk-parallel-item::after {content: \"\";width: 100%;border-bottom: 1px solid gray;flex-grow: 1;}#sk-container-id-1 div.sk-label:hover label.sk-toggleable__label {background-color: #d4ebff;}#sk-container-id-1 div.sk-serial::before {content: \"\";position: absolute;border-left: 1px solid gray;box-sizing: border-box;top: 0;bottom: 0;left: 50%;z-index: 0;}#sk-container-id-1 div.sk-serial {display: flex;flex-direction: column;align-items: center;background-color: white;padding-right: 0.2em;padding-left: 0.2em;position: relative;}#sk-container-id-1 div.sk-item {position: relative;z-index: 1;}#sk-container-id-1 div.sk-parallel {display: flex;align-items: stretch;justify-content: center;background-color: white;position: relative;}#sk-container-id-1 div.sk-item::before, #sk-container-id-1 div.sk-parallel-item::before {content: \"\";position: absolute;border-left: 1px solid gray;box-sizing: border-box;top: 0;bottom: 0;left: 50%;z-index: -1;}#sk-container-id-1 div.sk-parallel-item {display: flex;flex-direction: column;z-index: 1;position: relative;background-color: white;}#sk-container-id-1 div.sk-parallel-item:first-child::after {align-self: flex-end;width: 50%;}#sk-container-id-1 div.sk-parallel-item:last-child::after {align-self: flex-start;width: 50%;}#sk-container-id-1 div.sk-parallel-item:only-child::after {width: 0;}#sk-container-id-1 div.sk-dashed-wrapped {border: 1px dashed gray;margin: 0 0.4em 0.5em 0.4em;box-sizing: border-box;padding-bottom: 0.4em;background-color: white;}#sk-container-id-1 div.sk-label label {font-family: monospace;font-weight: bold;display: inline-block;line-height: 1.2em;}#sk-container-id-1 div.sk-label-container {text-align: center;}#sk-container-id-1 div.sk-container {/* jupyter's `normalize.less` sets `[hidden] { display: none; }` but bootstrap.min.css set `[hidden] { display: none !important; }` so we also need the `!important` here to be able to override the default hidden behavior on the sphinx rendered scikit-learn.org. See: https://github.com/scikit-learn/scikit-learn/issues/21755 */display: inline-block !important;position: relative;}#sk-container-id-1 div.sk-text-repr-fallback {display: none;}</style><div id=\"sk-container-id-1\" class=\"sk-top-container\"><div class=\"sk-text-repr-fallback\"><pre>Pipeline(steps=[(&#x27;SequenceSexRatio&#x27;,\n",
       "                 SequenceSexRatio(train=lineage.event_series.id           56d9b7b4-d73c-402f-ba50-1ae7c0a86526\n",
       "lineage.event_series.name                                Mag Mile Half\n",
       "lineage.previous_event.id                                          NaN\n",
       "lineage.previous_event.name                                        NaN\n",
       "lineage.previous_event.slug                                        NaN\n",
       "                                                  ...                 \n",
       "clean_category.completed.name                                      10k\n",
       "clean_category.registered.name                                     10k\n",
       "sequence_id                       57bdcd1f-a474-43e0-8e54-5f3a5...\n",
       "overall_ranking                                                 1603.0\n",
       "x_result.duration.chip                                   4401000000000\n",
       "Name: 68783, Length: 127, dtype: object)),\n",
       "                (&#x27;reduce_columns&#x27;,\n",
       "                 ColumnTransformer(transformers=[(&#x27;sex&#x27;,\n",
       "                                                  OneHotEncoder(categories=[[&#x27;Male&#x27;,\n",
       "                                                                             &#x27;Female&#x27;]],\n",
       "                                                                handle_unknown=&#x27;ignore&#x27;),\n",
       "                                                  [&#x27;sex&#x27;]),\n",
       "                                                 (&#x27;cols_to_keep&#x27;, &#x27;passthrough&#x27;,\n",
       "                                                  [&#x27;age&#x27;,\n",
       "                                                   &#x27;SequenceSexRatio&#x27;])])),\n",
       "                (&#x27;fill missing&#x27;, SimpleImputer()),\n",
       "                (&#x27;regressor&#x27;, LinearRegression())])</pre><b>In a Jupyter environment, please rerun this cell to show the HTML representation or trust the notebook. <br />On GitHub, the HTML representation is unable to render, please try loading this page with nbviewer.org.</b></div><div class=\"sk-container\" hidden><div class=\"sk-item sk-dashed-wrapped\"><div class=\"sk-label-container\"><div class=\"sk-label sk-toggleable\"><input class=\"sk-toggleable__control sk-hidden--visually\" id=\"sk-estimator-id-1\" type=\"checkbox\" ><label for=\"sk-estimator-id-1\" class=\"sk-toggleable__label sk-toggleable__label-arrow\">Pipeline</label><div class=\"sk-toggleable__content\"><pre>Pipeline(steps=[(&#x27;SequenceSexRatio&#x27;,\n",
       "                 SequenceSexRatio(train=lineage.event_series.id           56d9b7b4-d73c-402f-ba50-1ae7c0a86526\n",
       "lineage.event_series.name                                Mag Mile Half\n",
       "lineage.previous_event.id                                          NaN\n",
       "lineage.previous_event.name                                        NaN\n",
       "lineage.previous_event.slug                                        NaN\n",
       "                                                  ...                 \n",
       "clean_category.completed.name                                      10k\n",
       "clean_category.registered.name                                     10k\n",
       "sequence_id                       57bdcd1f-a474-43e0-8e54-5f3a5...\n",
       "overall_ranking                                                 1603.0\n",
       "x_result.duration.chip                                   4401000000000\n",
       "Name: 68783, Length: 127, dtype: object)),\n",
       "                (&#x27;reduce_columns&#x27;,\n",
       "                 ColumnTransformer(transformers=[(&#x27;sex&#x27;,\n",
       "                                                  OneHotEncoder(categories=[[&#x27;Male&#x27;,\n",
       "                                                                             &#x27;Female&#x27;]],\n",
       "                                                                handle_unknown=&#x27;ignore&#x27;),\n",
       "                                                  [&#x27;sex&#x27;]),\n",
       "                                                 (&#x27;cols_to_keep&#x27;, &#x27;passthrough&#x27;,\n",
       "                                                  [&#x27;age&#x27;,\n",
       "                                                   &#x27;SequenceSexRatio&#x27;])])),\n",
       "                (&#x27;fill missing&#x27;, SimpleImputer()),\n",
       "                (&#x27;regressor&#x27;, LinearRegression())])</pre></div></div></div><div class=\"sk-serial\"><div class=\"sk-item\"><div class=\"sk-estimator sk-toggleable\"><input class=\"sk-toggleable__control sk-hidden--visually\" id=\"sk-estimator-id-2\" type=\"checkbox\" ><label for=\"sk-estimator-id-2\" class=\"sk-toggleable__label sk-toggleable__label-arrow\">SequenceSexRatio</label><div class=\"sk-toggleable__content\"><pre>SequenceSexRatio(train=lineage.event_series.id           56d9b7b4-d73c-402f-ba50-1ae7c0a86526\n",
       "lineage.event_series.name                                Mag Mile Half\n",
       "lineage.previous_event.id                                          NaN\n",
       "lineage.previous_event.name                                        NaN\n",
       "lineage.previous_event.slug                                        NaN\n",
       "                                                  ...                 \n",
       "clean_category.completed.name                                      10k\n",
       "clean_category.registered.name                                     10k\n",
       "sequence_id                       57bdcd1f-a474-43e0-8e54-5f3a5206f5f9\n",
       "overall_ranking                                                 1603.0\n",
       "x_result.duration.chip                                   4401000000000\n",
       "Name: 68783, Length: 127, dtype: object)</pre></div></div></div><div class=\"sk-item sk-dashed-wrapped\"><div class=\"sk-label-container\"><div class=\"sk-label sk-toggleable\"><input class=\"sk-toggleable__control sk-hidden--visually\" id=\"sk-estimator-id-3\" type=\"checkbox\" ><label for=\"sk-estimator-id-3\" class=\"sk-toggleable__label sk-toggleable__label-arrow\">reduce_columns: ColumnTransformer</label><div class=\"sk-toggleable__content\"><pre>ColumnTransformer(transformers=[(&#x27;sex&#x27;,\n",
       "                                 OneHotEncoder(categories=[[&#x27;Male&#x27;, &#x27;Female&#x27;]],\n",
       "                                               handle_unknown=&#x27;ignore&#x27;),\n",
       "                                 [&#x27;sex&#x27;]),\n",
       "                                (&#x27;cols_to_keep&#x27;, &#x27;passthrough&#x27;,\n",
       "                                 [&#x27;age&#x27;, &#x27;SequenceSexRatio&#x27;])])</pre></div></div></div><div class=\"sk-parallel\"><div class=\"sk-parallel-item\"><div class=\"sk-item\"><div class=\"sk-label-container\"><div class=\"sk-label sk-toggleable\"><input class=\"sk-toggleable__control sk-hidden--visually\" id=\"sk-estimator-id-4\" type=\"checkbox\" ><label for=\"sk-estimator-id-4\" class=\"sk-toggleable__label sk-toggleable__label-arrow\">sex</label><div class=\"sk-toggleable__content\"><pre>[&#x27;sex&#x27;]</pre></div></div></div><div class=\"sk-serial\"><div class=\"sk-item\"><div class=\"sk-estimator sk-toggleable\"><input class=\"sk-toggleable__control sk-hidden--visually\" id=\"sk-estimator-id-5\" type=\"checkbox\" ><label for=\"sk-estimator-id-5\" class=\"sk-toggleable__label sk-toggleable__label-arrow\">OneHotEncoder</label><div class=\"sk-toggleable__content\"><pre>OneHotEncoder(categories=[[&#x27;Male&#x27;, &#x27;Female&#x27;]], handle_unknown=&#x27;ignore&#x27;)</pre></div></div></div></div></div></div><div class=\"sk-parallel-item\"><div class=\"sk-item\"><div class=\"sk-label-container\"><div class=\"sk-label sk-toggleable\"><input class=\"sk-toggleable__control sk-hidden--visually\" id=\"sk-estimator-id-6\" type=\"checkbox\" ><label for=\"sk-estimator-id-6\" class=\"sk-toggleable__label sk-toggleable__label-arrow\">cols_to_keep</label><div class=\"sk-toggleable__content\"><pre>[&#x27;age&#x27;, &#x27;SequenceSexRatio&#x27;]</pre></div></div></div><div class=\"sk-serial\"><div class=\"sk-item\"><div class=\"sk-estimator sk-toggleable\"><input class=\"sk-toggleable__control sk-hidden--visually\" id=\"sk-estimator-id-7\" type=\"checkbox\" ><label for=\"sk-estimator-id-7\" class=\"sk-toggleable__label sk-toggleable__label-arrow\">passthrough</label><div class=\"sk-toggleable__content\"><pre>passthrough</pre></div></div></div></div></div></div></div></div><div class=\"sk-item\"><div class=\"sk-estimator sk-toggleable\"><input class=\"sk-toggleable__control sk-hidden--visually\" id=\"sk-estimator-id-8\" type=\"checkbox\" ><label for=\"sk-estimator-id-8\" class=\"sk-toggleable__label sk-toggleable__label-arrow\">SimpleImputer</label><div class=\"sk-toggleable__content\"><pre>SimpleImputer()</pre></div></div></div><div class=\"sk-item\"><div class=\"sk-estimator sk-toggleable\"><input class=\"sk-toggleable__control sk-hidden--visually\" id=\"sk-estimator-id-9\" type=\"checkbox\" ><label for=\"sk-estimator-id-9\" class=\"sk-toggleable__label sk-toggleable__label-arrow\">LinearRegression</label><div class=\"sk-toggleable__content\"><pre>LinearRegression()</pre></div></div></div></div></div></div></div>"
      ],
      "text/plain": [
       "Pipeline(steps=[('SequenceSexRatio',\n",
       "                 SequenceSexRatio(train=lineage.event_series.id           56d9b7b4-d73c-402f-ba50-1ae7c0a86526\n",
       "lineage.event_series.name                                Mag Mile Half\n",
       "lineage.previous_event.id                                          NaN\n",
       "lineage.previous_event.name                                        NaN\n",
       "lineage.previous_event.slug                                        NaN\n",
       "                                                  ...                 \n",
       "clean_category.completed.name                                      10k\n",
       "clean_category.registered.name                                     10k\n",
       "sequence_id                       57bdcd1f-a474-43e0-8e54-5f3a5...\n",
       "overall_ranking                                                 1603.0\n",
       "x_result.duration.chip                                   4401000000000\n",
       "Name: 68783, Length: 127, dtype: object)),\n",
       "                ('reduce_columns',\n",
       "                 ColumnTransformer(transformers=[('sex',\n",
       "                                                  OneHotEncoder(categories=[['Male',\n",
       "                                                                             'Female']],\n",
       "                                                                handle_unknown='ignore'),\n",
       "                                                  ['sex']),\n",
       "                                                 ('cols_to_keep', 'passthrough',\n",
       "                                                  ['age',\n",
       "                                                   'SequenceSexRatio'])])),\n",
       "                ('fill missing', SimpleImputer()),\n",
       "                ('regressor', LinearRegression())])"
      ]
     },
     "metadata": {},
     "output_type": "display_data"
    }
   ],
   "source": [
    "# Now we can build a little pipeline and use this column as a predictor\n",
    "from sklearn.linear_model import LinearRegression\n",
    "from sklearn.pipeline import Pipeline\n",
    "from sklearn.compose import ColumnTransformer\n",
    "from sklearn.preprocessing import OneHotEncoder\n",
    "from sklearn.impute import SimpleImputer\n",
    "\n",
    "pipe = Pipeline(\n",
    "    steps=[\n",
    "        # this will initialize our dataframe with training data\n",
    "        (\"SequenceSexRatio\", SequenceSexRatio(train)),\n",
    "        # this will cut out all parameters except a few\n",
    "        (\"reduce_columns\", \n",
    "         ColumnTransformer(transformers=[\n",
    "            (\"sex\", OneHotEncoder(categories=[['Male','Female']], handle_unknown='ignore'), ['sex']),\n",
    "            ('cols_to_keep', 'passthrough', ['age','SequenceSexRatio']),\n",
    "        ], remainder='drop')),\n",
    "        # we'll just use this questionable method for dealing with missing values across all columns\n",
    "        ('fill missing', SimpleImputer(missing_values=np.nan, strategy='mean')),\n",
    "        # this is our final estimator\n",
    "        (\"regressor\", LinearRegression())\n",
    "    ])\n",
    "\n",
    "# now let's visually inspect our pipeline\n",
    "from sklearn import set_config\n",
    "set_config(display=\"diagram\")\n",
    "display(pipe)"
   ]
  },
  {
   "cell_type": "code",
   "execution_count": 6,
   "id": "ca79641f-a22d-4935-8f81-9e11e2712816",
   "metadata": {},
   "outputs": [
    {
     "name": "stdout",
     "output_type": "stream",
     "text": [
      "The number of sequences which are also in our historical data are 2\n"
     ]
    },
    {
     "data": {
      "text/plain": [
       "array([ 7.09691420e+10,  6.01893349e+11,  1.04452754e+10, -2.52197765e+13])"
      ]
     },
     "execution_count": 6,
     "metadata": {},
     "output_type": "execute_result"
    }
   ],
   "source": [
    "# Now we have a pipeline that will first add in our new column of data then\n",
    "# pass this on to the rest of the pipeline. Importantly, the new data is\n",
    "# added when we create the object, through the constructor, and is merged\n",
    "# with the data we are fitting to or predicting on when the transform()\n",
    "# function is called. Since the object is *not* created when we predict, and\n",
    "# instead is loaded through the pickle process, it means we can embed historical\n",
    "# data in the pipeline for use in the future.\n",
    "\n",
    "# We now have to fit out pipeline, this will just call the transform() and fit()\n",
    "# functions of the objects in the pipeline, but will not create new objects.\n",
    "fitted_pipe=pipe.fit(train, train['x_result.duration.chip'])\n",
    "\n",
    "# And we can take that final regression object and observe the coefficients\n",
    "# to verify that we have four, two for sex, one for sexsequenceratio, and\n",
    "# one age\n",
    "fitted_pipe.steps[-1][1].coef_"
   ]
  },
  {
   "cell_type": "code",
   "execution_count": 7,
   "id": "68c5b617-8bad-49fb-bdd0-66f6ef18c76e",
   "metadata": {},
   "outputs": [
    {
     "name": "stdout",
     "output_type": "stream",
     "text": [
      "The number of sequences which are also in our historical data are 2\n"
     ]
    },
    {
     "data": {
      "text/plain": [
       "0.18202462409537035"
      ]
     },
     "execution_count": 7,
     "metadata": {},
     "output_type": "execute_result"
    }
   ],
   "source": [
    "# Finally we can now try this on unseen data\n",
    "fitted_pipe.score(test, test['x_result.duration.chip'])"
   ]
  },
  {
   "cell_type": "code",
   "execution_count": null,
   "id": "3d4a5b23-bb24-4fe6-9881-0accb4683ba5",
   "metadata": {},
   "outputs": [],
   "source": []
  }
 ],
 "metadata": {
  "kernelspec": {
   "display_name": "Python 3 (ipykernel)",
   "language": "python",
   "name": "python3"
  },
  "language_info": {
   "codemirror_mode": {
    "name": "ipython",
    "version": 3
   },
   "file_extension": ".py",
   "mimetype": "text/x-python",
   "name": "python",
   "nbconvert_exporter": "python",
   "pygments_lexer": "ipython3",
   "version": "3.8.10"
  }
 },
 "nbformat": 4,
 "nbformat_minor": 5
}
