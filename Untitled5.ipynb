{
 "cells": [
  {
   "cell_type": "code",
   "execution_count": 22,
   "id": "a65b1907-2e73-4b66-8e67-42eec4818437",
   "metadata": {},
   "outputs": [
    {
     "data": {
      "text/plain": [
       "[5]"
      ]
     },
     "execution_count": 22,
     "metadata": {},
     "output_type": "execute_result"
    }
   ],
   "source": [
    "dct={\"5k run\":5}\n",
    "list(dct.values())\n",
    "\n"
   ]
  },
  {
   "cell_type": "code",
   "execution_count": 23,
   "id": "a70df43c-a7fe-469c-9ded-560e03004879",
   "metadata": {},
   "outputs": [
    {
     "data": {
      "text/plain": [
       "['5k run']"
      ]
     },
     "execution_count": 23,
     "metadata": {},
     "output_type": "execute_result"
    }
   ],
   "source": [
    "list(dct.keys())"
   ]
  },
  {
   "cell_type": "code",
   "execution_count": null,
   "id": "d7e2a909-202f-4d29-a99f-c9830aceb414",
   "metadata": {},
   "outputs": [],
   "source": []
  }
 ],
 "metadata": {
  "kernelspec": {
   "display_name": "Python 3 (ipykernel)",
   "language": "python",
   "name": "python3"
  },
  "language_info": {
   "codemirror_mode": {
    "name": "ipython",
    "version": 3
   },
   "file_extension": ".py",
   "mimetype": "text/x-python",
   "name": "python",
   "nbconvert_exporter": "python",
   "pygments_lexer": "ipython3",
   "version": "3.8.10"
  }
 },
 "nbformat": 4,
 "nbformat_minor": 5
}
