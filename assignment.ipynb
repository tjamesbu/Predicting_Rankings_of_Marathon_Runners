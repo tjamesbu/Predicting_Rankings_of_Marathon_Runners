{
 "cells": [
  {
   "cell_type": "code",
   "execution_count": 71,
   "id": "cec626ee-7f27-4526-a09f-27a94e1e5030",
   "metadata": {},
   "outputs": [],
   "source": [
    "import pandas as pd\n",
    "import numpy as np\n",
    "import cloudpickle\n",
    "import sklearn\n",
    "\n",
    "from sklearn.preprocessing import StandardScaler\n",
    "preprocessor = StandardScaler()\n",
    "\n",
    "from sklearn import metrics\n",
    "from sklearn.linear_model import ElasticNet\n",
    "\n",
    "from sklearn.model_selection import GridSearchCV, RepeatedKFold, cross_val_score, KFold\n",
    "\n",
    "from sklearn.pipeline import Pipeline\n",
    "from sklearn.linear_model import LinearRegression\n",
    "from sklearn.linear_model import LogisticRegression\n",
    "from sklearn.ensemble import BaggingRegressor\n",
    "from sklearn.ensemble import ExtraTreesRegressor\n",
    "from sklearn.ensemble import AdaBoostRegressor\n",
    "from sklearn.ensemble import GradientBoostingRegressor\n",
    "from xgboost import XGBRegressor\n",
    "from sklearn.ensemble import VotingRegressor\n",
    "from sklearn.ensemble import StackingRegressor\n",
    "from sklearn.ensemble import HistGradientBoostingRegressor\n",
    "from sklearn.ensemble import RandomForestRegressor\n",
    "from sklearn.impute import SimpleImputer\n",
    "from sklearn.preprocessing import OneHotEncoder\n",
    "\n",
    "df=pd.read_csv(\"../../assets/assignment/df_train.csv.gz\")\n",
    "#df = df['overall_ranking'].dropna()\n",
    "events=df['event.id'].unique()\n",
    "\n",
    "df.loc[df.query(\"`sex` not in ['Male','Female']\").index, 'sex']=0\n",
    "\n",
    "df.loc[df.query(\"`sex` == 'Male'\").index, 'sex']=2\n",
    "df.loc[df.query(\"`sex` == 'Female'\").index, 'sex']=1\n",
    "\n",
    "df['sex'] = df['sex'].astype(int)\n",
    "\n",
    "   \n",
    "df['clean_categories_run_count']=df['clean_categories.name'].replace({'15k':15, '5k':5, 'marathon':42.195, 'half marathon':21.0975, '10k':10, '5 mile':8.04672,\n",
    "'8k':8,'5k run':5, '3k walk':0, '10k run':10, 'youth mile':1.60934, '5k run/walk':5,\n",
    "       '5k walk':0, '5 mile run':8.04672, '1 mile run':1.60934, '15k run':15, '10k walk':0,\n",
    "       '6k run':6, '6k walk':0, '1 mile walk':0, '8k run':8, '8k walk':0,\n",
    "       '10 mile run':16.0934, '10 mile walk':0, '5 mile walk':0, '30k run':30,\n",
    "       '30k bike':0, '8 mile run':12.8748, '8 mile walk':0, 'bridge run':10,\n",
    "       'international half marathon':21.0975, 'u.s. only half marathon':21.0975, '1 mile':1.60934,\n",
    "       '5.7 mile run':9.17326, '5.7 mile walk':0, '5k competitive walk':0,\n",
    "       'half marathon run':21.0975, '5k fun walk':0, '5k wheelchair':0,\n",
    "       '1 mile fun run':1.60934, '2 mile run':3.21869, '2 mile walk':0, '4 mile run/walk':6.43738,\n",
    "       'life time commitment day 5k':5, 'midnight streak':5,\n",
    "       'commitment day 5k - master':5, 'quarter marathon':10.54875, '5k walk/run':5,\n",
    "       '1 mile fun run/walk':1.60934, 'one mile fun run':1.60934, '5 km run':5,\n",
    "       'fire fighter':42.195, 'olympic triathlon':10, 'sprint triathlon':10,\n",
    "       'olympic duathlon':10, 'sprint duathlon':10, '10k scenic challenge':10,\n",
    "       'run swim run':50, 'half marathon walk':0, 'mini-marathon':21.0975})\n",
    "\n",
    "df['clean_categories_walk_count']=df['clean_categories.name'].replace({'15k':0, '5k':0, 'marathon':0, 'half marathon':0, '10k':0, '5 mile':0,\n",
    "       '8k':0,'5k run':0, '3k walk':3, '10k run':0, 'youth mile':0, '5k run/walk':0,\n",
    "       '5k walk':5, '5 mile run':0, '1 mile run':0, '15k run':0, '10k walk':10,\n",
    "       '6k run':0, '6k walk':6, '1 mile walk':1.60934, '8k run':0, '8k walk':8,\n",
    "       '10 mile run':0, '10 mile walk':16.0934, '5 mile walk':8.04672, '30k run':0,\n",
    "       '30k bike':0, '8 mile run':0, '8 mile walk':12.9748, 'bridge run':0,\n",
    "       'international half marathon':0, 'u.s. only half marathon':0, '1 mile':0,\n",
    "       '5.7 mile run':0, '5.7 mile walk':9.17326, '5k competitive walk':5,\n",
    "       'half marathon run':0, '5k fun walk':5, '5k wheelchair':0,\n",
    "       '1 mile fun run':0, '2 mile run':0, '2 mile walk':3.21869, '4 mile run/walk':0,\n",
    "       'life time commitment day 5k':0, 'midnight streak':0,\n",
    "       'commitment day 5k - master':0, 'quarter marathon':0, '5k walk/run':0,\n",
    "       '1 mile fun run/walk':0, 'one mile fun run':0, '5 km run':0,\n",
    "       'fire fighter':0, 'olympic triathlon':0, 'sprint triathlon':0,\n",
    "       'olympic duathlon':0, 'sprint duathlon':0, '10k scenic challenge':0,\n",
    "       'run swim run':0, 'half marathon walk':21.0975, 'mini-marathon':0})\n",
    "\n",
    "#walk_count = df['clean_categories_walk_count'].unique()\n",
    "#run_count = df['clean_categories_run_count'].unique()\n",
    "\n",
    "df.loc[df.query(\"`age` >= 119\").index, 'age']=np.nan\n",
    "df.loc[df.query(\"`age` <= 18\").index, 'age']=np.nan\n",
    "df.loc[df['age'] == 'nan', 'age'] = 38\n",
    "df['age']=df['age'].replace(np.nan,38)\n",
    "\n",
    "df['price']=df['price'].replace(np.nan,49.0)\n",
    "\n",
    "df['bib']=df['bib'].replace(np.nan,5202.0)\n",
    "\n",
    "df['counts.participants.expected']=df['counts.participants.expected'].replace(['150-300'],['300'])\n",
    "\n",
    "df['location.city']=df['location.city'].replace(['Oklahoma City, OK'],['Oklahoma City'])\n",
    "\n",
    "df['date'] = pd.to_datetime(df['event.date.start'])\n",
    "df['year'], df['month'] = df['date'].dt.year, df['date'].dt.month\n",
    "\n",
    "#df['event.results_certificate']=df['event.results_certificate'].replace([False,'False','1', 1],[0,0,1,1])\n",
    "#df['event.photos_faces']=df['event.photos_faces'].replace([False, 'False', '1', 1, 'True'],[0,0,1,1,1]\n",
    "\n",
    "df['result.primary_bracket']=df['result.primary_bracket'].replace(['Overall', 'Wheelchair', 'nan', 'Male', 'Female', 'Male 25-29',\n",
    "       'Male 40-44', 'Female 25-29', 'Female 20-24', 'wheelchair','WHEELCHAIR'],['Overall','Wheelchair','Overall','Male','Female','Male','Male', 'Female', 'Female','Wheelchair', 'Wheelchair']) \n",
    "df['result.primary_bracket']=df['result.primary_bracket'].replace(np.nan,'Overall')\n",
    "df['result.primary_bracket']=df['result.primary_bracket'].replace(['Wheelchair', 'Overall', 'Male', 'Female'],[1,2,3,4])\n",
    "\n",
    "#df = df.dropna(subset = ['result.duration.chip'])\n",
    "\n",
    "#groups=pd.DataFrame(df.groupby([\"event.id\",\"clean_categories.name\"]).groups.keys(), columns=[\"event.id\",\"clean_categories.name\"])\n",
    "\n",
    "#train_set=events[100:]\n",
    "#holdout_set=events[0:100]\n",
    "\n",
    "#train_set=events[0:100]\n",
    "#test_set=events[100:200]\n",
    "#holdout_set=events[200:300]\n",
    "\n",
    "#train_set = df[(df['year']==2018) | (df['year']==2017)] \n",
    "#holdout_set = df[(df[\"year\"]==2016) | (df[\"year\"]==2015) | (df[\"year\"]==2014) | (df[\"year\"]==2013) | (df[\"year\"]==2012)]\n",
    "\n",
    "#train = df[df['year']==2017] \n",
    "#holdout = df[df['year']==2018] \n",
    "\n",
    "# We are going to regress on time\n",
    "#df['result.duration.chip']=pd.to_timedelta(df['result.duration.chip']).astype(int)\n",
    "\n",
    "# For this demo we are going to use the sequence identifiers, let's look at a\n",
    "# couple I hand picked\n",
    "#data=df.query('sequence_id in [\"5e862221-758c-48b1-a7cf-11bcc0a80a41\",\"57bdcd1f-a474-43e0-8e54-5f3a5206f5f9\"]')\n",
    "#data.groupby(['sequence_id','event.id']).apply(len)\n",
    "\n",
    "train_set = events[:100]\n",
    "holdout_set = events[100:]\n",
    "\n",
    "#test_set=events[200:300]\n",
    "\n",
    "train=df.query(\"`event.id` in @train_set\")\n",
    "#test=df.query(\"`event.id` in @test_set\")\n",
    "holdout=df.query(\"`event.id` in @holdout_set\")\n",
    "\n",
    "# We see that these two sequences have historical event data, and different numbers of runners\n",
    "# so lets separate this into a training and validation set\n",
    "#train=data.query(\"`event.id` in ['57bdcd1f-a474-43e0-8e54-5f3a5206f5f9', '5e862221-758c-48b1-a7cf-11bcc0a80a41']\")\n",
    "#test=data.query(\"`event.id` not in ['57bdcd1f-a474-43e0-8e54-5f3a5206f5f9', '5e862221-758c-48b1-a7cf-11bcc0a80a41']\")\n",
    "\n",
    "#train=train.groupby([\"event.id\",\"clean_categories.name\"]).filter(lambda z: len(z)>5)\n",
    "\n",
    "holdout=holdout.drop(\n",
    "    columns=['time.end',\n",
    "             'body.results_certificate',\n",
    "             'event.results_posted',\n",
    "            'event.results_posted',\n",
    "             'event.results_certificate',\n",
    "             'event.photos_available',\n",
    "             'event.photos_faces',\n",
    "             'event.photos_social_sharing',\n",
    "             'event.results_searchable',\n",
    "             'corral.id',\n",
    "             'corral.name',\n",
    "             'corral.wave',\n",
    "             'corral.time.close',\n",
    "             'corral.time.start',\n",
    "             'result.duration.chip',\n",
    "             'result.duration.pace',\n",
    "             'result.rankings',\n",
    "             'result.splits',\n",
    "             'result.videos',\n",
    "             'result.finished',\n",
    "             'result.disqualified',\n",
    "             'result.duration'])\n",
    "\n",
    "holdout=df.groupby([\"event.id\",\"clean_categories.name\"]).filter(lambda z: len(z)>5)"
   ]
  },
  {
   "cell_type": "code",
   "execution_count": 72,
   "id": "d80f618e-ea43-42be-a429-ad9ada6daeed",
   "metadata": {},
   "outputs": [
    {
     "data": {
      "text/plain": [
       "0"
      ]
     },
     "execution_count": 72,
     "metadata": {},
     "output_type": "execute_result"
    }
   ],
   "source": [
    "#check_nan = df['result.primary_bracket'].isnull().sum()\n",
    "#check_nan"
   ]
  },
  {
   "cell_type": "code",
   "execution_count": 73,
   "id": "94b870a0-b1c2-400e-b779-69fc3af70a73",
   "metadata": {},
   "outputs": [
    {
     "data": {
      "text/plain": [
       "array([2, 1, 3, 4])"
      ]
     },
     "execution_count": 73,
     "metadata": {},
     "output_type": "execute_result"
    }
   ],
   "source": [
    "#df['result.primary_bracket'].unique()"
   ]
  },
  {
   "cell_type": "code",
   "execution_count": 16,
   "id": "03a474af-a5b3-4ca2-90c8-0c71066dc367",
   "metadata": {},
   "outputs": [
    {
     "data": {
      "text/plain": [
       "0    38.0\n",
       "1    32.0\n",
       "2    36.0\n",
       "3    44.0\n",
       "4    44.0\n",
       "Name: age, dtype: float64"
      ]
     },
     "execution_count": 16,
     "metadata": {},
     "output_type": "execute_result"
    }
   ],
   "source": [
    "#train_set['age'].head()"
   ]
  },
  {
   "cell_type": "code",
   "execution_count": 59,
   "id": "c2c2d02b-d612-45e9-997b-f3a73fbade30",
   "metadata": {},
   "outputs": [
    {
     "data": {
      "text/plain": [
       "(242443, 126)"
      ]
     },
     "execution_count": 59,
     "metadata": {},
     "output_type": "execute_result"
    }
   ],
   "source": [
    "#train.shape"
   ]
  },
  {
   "cell_type": "code",
   "execution_count": 60,
   "id": "7c92761d-6292-471e-b355-443650981414",
   "metadata": {},
   "outputs": [
    {
     "data": {
      "text/plain": [
       "(51090, 126)"
      ]
     },
     "execution_count": 60,
     "metadata": {},
     "output_type": "execute_result"
    }
   ],
   "source": [
    "#test.shape"
   ]
  },
  {
   "cell_type": "code",
   "execution_count": 61,
   "id": "10bbaed8-7dca-43b4-90c1-97bd39ee9f8d",
   "metadata": {},
   "outputs": [
    {
     "data": {
      "text/plain": [
       "(293522, 126)"
      ]
     },
     "execution_count": 61,
     "metadata": {},
     "output_type": "execute_result"
    }
   ],
   "source": [
    "#holdout.shape"
   ]
  },
  {
   "cell_type": "code",
   "execution_count": 40,
   "id": "a0fe5955-717d-4a10-a9bc-24ace99f86c1",
   "metadata": {},
   "outputs": [],
   "source": [
    "#df[df['year']==2018].shape"
   ]
  },
  {
   "cell_type": "code",
   "execution_count": 41,
   "id": "6c15f906-a5dc-4194-bd5a-b9ae4fa66a09",
   "metadata": {},
   "outputs": [],
   "source": [
    "#df[df['year']==2017].shape"
   ]
  },
  {
   "cell_type": "code",
   "execution_count": 42,
   "id": "6aab04da-300f-4ba3-b82c-fe1136b65c96",
   "metadata": {},
   "outputs": [],
   "source": [
    "#df[df['year']==2016].shape"
   ]
  },
  {
   "cell_type": "code",
   "execution_count": 43,
   "id": "dc397e01-624e-4bc4-a0d8-daf24a2a74f2",
   "metadata": {},
   "outputs": [],
   "source": [
    "#df[df['year']==2015].shape"
   ]
  },
  {
   "cell_type": "code",
   "execution_count": 44,
   "id": "3bbc56c4-0be1-43a9-8e78-ffbb60e0dba3",
   "metadata": {},
   "outputs": [],
   "source": [
    "#df[df['year']==2014].shape"
   ]
  },
  {
   "cell_type": "code",
   "execution_count": 45,
   "id": "2c787b98-30e6-4ae2-979c-b1f7c4276a53",
   "metadata": {},
   "outputs": [],
   "source": [
    "#df[df['year']==2013].shape"
   ]
  },
  {
   "cell_type": "code",
   "execution_count": 46,
   "id": "f12d3ea8-f244-4442-b87a-83d5737438fa",
   "metadata": {},
   "outputs": [],
   "source": [
    "#df[df['year']==2012].shape"
   ]
  },
  {
   "cell_type": "code",
   "execution_count": 47,
   "id": "f121b689-f869-48c7-b2d9-562b0e945754",
   "metadata": {},
   "outputs": [],
   "source": [
    "#groups=pd.DataFrame(df.groupby([\"event.id\",\"clean_categories.name\"]).groups.keys(), columns=[\"event.id\",\"clean_categories.name\"])\n",
    "#groups=pd.DataFrame(df.groupby([\"event.id\",\"clean_categories.name\"]).apply(\n",
    "#groups"
   ]
  },
  {
   "cell_type": "code",
   "execution_count": 48,
   "id": "1fa24147-cd09-4562-997b-56de3a118758",
   "metadata": {},
   "outputs": [],
   "source": [
    "#with pd.option_context('display.max_columns', None):\n",
    "#    display(groups)"
   ]
  },
  {
   "cell_type": "code",
   "execution_count": 49,
   "id": "0e8e70ea-f32f-42f5-8f00-d3addd27a29a",
   "metadata": {},
   "outputs": [],
   "source": [
    "#df['counts.participants.registered'].unique()"
   ]
  },
  {
   "cell_type": "code",
   "execution_count": 50,
   "id": "3522a8b7-ba06-4f9a-8b7d-bddc8784fb91",
   "metadata": {},
   "outputs": [],
   "source": [
    "#with pd.option_context('display.max_columns', None):\n",
    "#    display(df)"
   ]
  },
  {
   "cell_type": "code",
   "execution_count": null,
   "id": "aab193ee-2bd6-4412-8643-d8df89fae31b",
   "metadata": {},
   "outputs": [],
   "source": []
  },
  {
   "cell_type": "code",
   "execution_count": 51,
   "id": "235d466f-7d98-48e8-855d-6d005c0ced01",
   "metadata": {},
   "outputs": [],
   "source": [
    "#check_nan = df['clean_categories.name'].isnull().sum()\n",
    "#check_nan"
   ]
  },
  {
   "cell_type": "code",
   "execution_count": 52,
   "id": "732edc21-84a2-440d-885d-7036f2ec3793",
   "metadata": {},
   "outputs": [],
   "source": [
    "#len(df['overall_ranking'].isna()==True)"
   ]
  },
  {
   "cell_type": "code",
   "execution_count": 74,
   "id": "43b33335-b411-4994-9954-3ce9781514ee",
   "metadata": {},
   "outputs": [],
   "source": [
    "y=pd.to_timedelta(train['result.duration.chip']).astype(int)\n",
    "#y=train['overall_ranking']\n",
    "holdout_data=holdout"
   ]
  },
  {
   "cell_type": "code",
   "execution_count": 75,
   "id": "1f871ec9-cf95-410f-9dfb-067a91c019ab",
   "metadata": {},
   "outputs": [],
   "source": [
    "# Step 2: Use the autograder!\n",
    "\n",
    "# I gave you the autograder code, so a next great step is just to copy and paste\n",
    "# that in your notebook and get used to how it works.\n",
    "import pandas as pd\n",
    "import numpy as np\n",
    "import cloudpickle\n",
    "import sklearn\n",
    "\n",
    "# This code simulates the autograder. It is not the full autograder implementation\n",
    "# but shares an API with the autograder. It expects that your fitted pipeline is\n",
    "# submitted with the name pipeline.cloudpickle as demonstrated above. This object\n",
    "# must implement the predict() function. This is done automatically by the sklearn\n",
    "# Pipeline object if the last element of your pipeline is a classifier which has\n",
    "# a predict() function. If you are not submitting a Pipeline, and want to do something\n",
    "# different, you *must* have a predict() function of the same method signature, e.g.:\n",
    "#\n",
    "#   predict(self, X, **predict_params)->np.ndarray\n",
    "\n",
    "# Load holdout data, in this case I'll simulate it by loading the training data\n",
    "#df=pd.read_csv(\"../../assets/assignment/df_train.csv.gz\")\n",
    "\n",
    "# And evaluate on all 5k races that we didn't consider for training\n",
    "#holdout_data=df.query(\"`event.id`!='583f013a-1e54-4906-87f7-2b625206f5f9' and `clean_categories.name`=='5k'\")\n",
    "#holdout_data=holdout\n",
    "\n",
    "# This is the scoring function to determine model fitness\n",
    "def score(left: pd.DataFrame, right: pd.DataFrame):\n",
    "    '''\n",
    "    Calculates the difference between the left and the right when considering rank of items. \n",
    "    This scoring function requires that the two DataFrames have identical indicies, and that\n",
    "    they each contain only one column of values and no missing values.\n",
    "    '''\n",
    "    assert(type(left)==pd.DataFrame)\n",
    "    assert(type(right)==pd.DataFrame)\n",
    "    assert(len(left)==len(right))\n",
    "    assert(not np.any(np.isnan(left)))\n",
    "    assert(not np.any(np.isnan(right)))\n",
    "    assert(left.index.equals(right.index))\n",
    "    # convert to ndarrays\n",
    "    left=left.squeeze()\n",
    "    right=right.squeeze()\n",
    "    return np.sum(np.abs(left-right))/(len(left)*(len(left)-1))\n",
    "\n",
    "# This function runs the prediction model agains a given event/category pair. It\n",
    "# intentionally loads the student model each time to avoid accidental leakage of data\n",
    "# between events.\n",
    "def evaluate(data, pipeline_file='pipeline.cloudpickle'):\n",
    "    # Load student pipeline\n",
    "    fitted_pipe = cloudpickle.load(open(pipeline_file,'rb'))\n",
    "    \n",
    "    # Separate out the X and y\n",
    "    X=list(set(data.columns)-{'overall_ranking'})\n",
    "    y=['overall_ranking']\n",
    "    \n",
    "    # Drop any missing results (DNFs)\n",
    "    data=data.dropna(subset=['overall_ranking'])\n",
    "    \n",
    "    # Ensure there is data to actually predict on\n",
    "    if len(data)==0:\n",
    "        return np.nan\n",
    "    \n",
    "    # Predict on unseen data\n",
    "    from IPython.utils import io\n",
    "    with io.capture_output() as captured:\n",
    "        predictions=pd.DataFrame(fitted_pipe.predict(data[X]),data.index)\n",
    "    observed=data[y]\n",
    "    \n",
    "    # Generate rankings within this bracket\n",
    "    observed=pd.DataFrame(data[y].rank(),data.index)\n",
    "\n",
    "    # Return the ratio of the student score\n",
    "    return pd.Series({\"score\":score(observed,predictions)})\n",
    "\n",
    "# Student solution\n",
    "pipeline_file='pipeline.cloudpickle'\n",
    "\n",
    "def autograde(holdout_data):\n",
    "    # Run prediction on each group\n",
    "    results=holdout_data.groupby([\"event.id\",\"clean_categories.name\"]).apply(evaluate, pipeline_file)\n",
    "\n",
    "    # Display the results, uncomment this for your own display\n",
    "    results.reset_index()['score'].plot.bar();\n",
    "\n",
    "    # This is the student final grade\n",
    "    print(np.average(results))"
   ]
  },
  {
   "cell_type": "code",
   "execution_count": null,
   "id": "ffd81cfc-ba27-4a88-9a1a-3f2fbbb27515",
   "metadata": {},
   "outputs": [],
   "source": [
    "#autograde(holdout_data)"
   ]
  },
  {
   "cell_type": "code",
   "execution_count": 179,
   "id": "69d9414e-86b6-4e6d-b77d-6534dc0f20e0",
   "metadata": {},
   "outputs": [],
   "source": []
  },
  {
   "cell_type": "code",
   "execution_count": 242,
   "id": "79f4536e-335d-4a69-8850-763d433377ab",
   "metadata": {},
   "outputs": [
    {
     "data": {
      "text/plain": [
       "sequence_id\n",
       "57bdcd1f-a474-43e0-8e54-5f3a5206f5f9    0.678429\n",
       "5e862221-758c-48b1-a7cf-11bcc0a80a41    0.623711\n",
       "dtype: float64"
      ]
     },
     "execution_count": 242,
     "metadata": {},
     "output_type": "execute_result"
    }
   ],
   "source": [
    "# Let's say that I want to include in my pipeline the ratio of men to non-men\n",
    "# in the race. I can create that with the following:\n",
    "#sequence_stats=train.groupby(['sequence_id','event.id']).apply(lambda x: sum(x['sex']==1)/len(x)).groupby(['sequence_id']).apply(np.mean)\n",
    "#sequence_stats"
   ]
  },
  {
   "cell_type": "code",
   "execution_count": 243,
   "id": "28fccaa5-ccc0-411f-be18-e1320410bf72",
   "metadata": {},
   "outputs": [],
   "source": [
    "# To embed this data in my pipeline, I need to add it to one of the steps - either\n",
    "# a transformer or an estimator - as an object. Then when this gets serialized as\n",
    "# part of the pickle process it will be there for estimation. Let's create a new\n",
    "# transformer which does this, our strategy will be that the __init__ function\n",
    "# will calculate our sequence stats data and store it in the object, while our\n",
    "# transform function will add that to unseen data as a column\n",
    "#import numpy as np\n",
    "\n",
    "#class SequenceSexRatio(sklearn.base.TransformerMixin, sklearn.base.BaseEstimator):\n",
    "    \n",
    "    # this will be called when we first make our pipeline, so we can store things\n",
    "#    def __init__(self, train):\n",
    "        # as we want to visualize this later we have to have something in the train\n",
    "        # attribute, which is the parameter to this function. I'll just make this the \n",
    "        # first row of the data coming in.\n",
    "#        self.train=train.iloc[0]\n",
    "        \n",
    "#        self.sequence_stats=train.groupby(['sequence_id','event.id']).apply(\n",
    "#            lambda x: sum(x['sex']==1)/len(x)).groupby(['sequence_id']).apply(np.mean)\n",
    "        # you need to name a series in order to merge it later\n",
    "#        self.sequence_stats.name='sex_sequence_ratio'\n",
    "    \n",
    "    # this does nothing interesting\n",
    "#    def fit(self, data=None, y=None):\n",
    "#        return self\n",
    "    \n",
    "    # this will be called when we want to predict our data, since it will transform\n",
    "#    def transform(self, data):\n",
    "        # we can print out some diagnostics here, let's check how many sequences in the\n",
    "        # data we are trying to transform existing in our historical dataset\n",
    "#        print(f'The number of sequences which are also in our historical data are {len(set(data[\"sequence_id\"].unique()).intersection(self.sequence_stats.index))}')\n",
    "        # align on index via a left join\n",
    "#        newdata=pd.merge(data,self.sequence_stats,left_on='sequence_id',right_index=True,how='left')\n",
    "        # set our new sex_sequence_ratio column \n",
    "#        data['SequenceSexRatio']=newdata['sex_sequence_ratio']\n",
    "        # return all of the data to the next stage of the pipeline\n",
    "#        return data"
   ]
  },
  {
   "cell_type": "code",
   "execution_count": 76,
   "id": "ca09dce1-56d4-43c7-8832-d7156a6b5ba5",
   "metadata": {},
   "outputs": [
    {
     "data": {
      "text/html": [
       "<style>#sk-container-id-36 {color: black;background-color: white;}#sk-container-id-36 pre{padding: 0;}#sk-container-id-36 div.sk-toggleable {background-color: white;}#sk-container-id-36 label.sk-toggleable__label {cursor: pointer;display: block;width: 100%;margin-bottom: 0;padding: 0.3em;box-sizing: border-box;text-align: center;}#sk-container-id-36 label.sk-toggleable__label-arrow:before {content: \"▸\";float: left;margin-right: 0.25em;color: #696969;}#sk-container-id-36 label.sk-toggleable__label-arrow:hover:before {color: black;}#sk-container-id-36 div.sk-estimator:hover label.sk-toggleable__label-arrow:before {color: black;}#sk-container-id-36 div.sk-toggleable__content {max-height: 0;max-width: 0;overflow: hidden;text-align: left;background-color: #f0f8ff;}#sk-container-id-36 div.sk-toggleable__content pre {margin: 0.2em;color: black;border-radius: 0.25em;background-color: #f0f8ff;}#sk-container-id-36 input.sk-toggleable__control:checked~div.sk-toggleable__content {max-height: 200px;max-width: 100%;overflow: auto;}#sk-container-id-36 input.sk-toggleable__control:checked~label.sk-toggleable__label-arrow:before {content: \"▾\";}#sk-container-id-36 div.sk-estimator input.sk-toggleable__control:checked~label.sk-toggleable__label {background-color: #d4ebff;}#sk-container-id-36 div.sk-label input.sk-toggleable__control:checked~label.sk-toggleable__label {background-color: #d4ebff;}#sk-container-id-36 input.sk-hidden--visually {border: 0;clip: rect(1px 1px 1px 1px);clip: rect(1px, 1px, 1px, 1px);height: 1px;margin: -1px;overflow: hidden;padding: 0;position: absolute;width: 1px;}#sk-container-id-36 div.sk-estimator {font-family: monospace;background-color: #f0f8ff;border: 1px dotted black;border-radius: 0.25em;box-sizing: border-box;margin-bottom: 0.5em;}#sk-container-id-36 div.sk-estimator:hover {background-color: #d4ebff;}#sk-container-id-36 div.sk-parallel-item::after {content: \"\";width: 100%;border-bottom: 1px solid gray;flex-grow: 1;}#sk-container-id-36 div.sk-label:hover label.sk-toggleable__label {background-color: #d4ebff;}#sk-container-id-36 div.sk-serial::before {content: \"\";position: absolute;border-left: 1px solid gray;box-sizing: border-box;top: 0;bottom: 0;left: 50%;z-index: 0;}#sk-container-id-36 div.sk-serial {display: flex;flex-direction: column;align-items: center;background-color: white;padding-right: 0.2em;padding-left: 0.2em;position: relative;}#sk-container-id-36 div.sk-item {position: relative;z-index: 1;}#sk-container-id-36 div.sk-parallel {display: flex;align-items: stretch;justify-content: center;background-color: white;position: relative;}#sk-container-id-36 div.sk-item::before, #sk-container-id-36 div.sk-parallel-item::before {content: \"\";position: absolute;border-left: 1px solid gray;box-sizing: border-box;top: 0;bottom: 0;left: 50%;z-index: -1;}#sk-container-id-36 div.sk-parallel-item {display: flex;flex-direction: column;z-index: 1;position: relative;background-color: white;}#sk-container-id-36 div.sk-parallel-item:first-child::after {align-self: flex-end;width: 50%;}#sk-container-id-36 div.sk-parallel-item:last-child::after {align-self: flex-start;width: 50%;}#sk-container-id-36 div.sk-parallel-item:only-child::after {width: 0;}#sk-container-id-36 div.sk-dashed-wrapped {border: 1px dashed gray;margin: 0 0.4em 0.5em 0.4em;box-sizing: border-box;padding-bottom: 0.4em;background-color: white;}#sk-container-id-36 div.sk-label label {font-family: monospace;font-weight: bold;display: inline-block;line-height: 1.2em;}#sk-container-id-36 div.sk-label-container {text-align: center;}#sk-container-id-36 div.sk-container {/* jupyter's `normalize.less` sets `[hidden] { display: none; }` but bootstrap.min.css set `[hidden] { display: none !important; }` so we also need the `!important` here to be able to override the default hidden behavior on the sphinx rendered scikit-learn.org. See: https://github.com/scikit-learn/scikit-learn/issues/21755 */display: inline-block !important;position: relative;}#sk-container-id-36 div.sk-text-repr-fallback {display: none;}</style><div id=\"sk-container-id-36\" class=\"sk-top-container\"><div class=\"sk-text-repr-fallback\"><pre>Pipeline(steps=[(&#x27;cleaner&#x27;,\n",
       "                 ColumnTransformer(transformers=[(&#x27;sex&#x27;, &#x27;passthrough&#x27;,\n",
       "                                                  [&#x27;sex&#x27;]),\n",
       "                                                 (&#x27;age&#x27;, &#x27;passthrough&#x27;,\n",
       "                                                  [&#x27;age&#x27;]),\n",
       "                                                 (&#x27;price&#x27;, &#x27;passthrough&#x27;,\n",
       "                                                  [&#x27;price&#x27;]),\n",
       "                                                 (&#x27;counts.participants.expected&#x27;,\n",
       "                                                  &#x27;passthrough&#x27;,\n",
       "                                                  [&#x27;counts.participants.expected&#x27;]),\n",
       "                                                 (&#x27;counts.participants.registered&#x27;,\n",
       "                                                  &#x27;passthrough&#x27;,\n",
       "                                                  [&#x27;counts.participants.registered&#x27;]),\n",
       "                                                 (&#x27;bib&#x27;, &#x27;passthrough&#x27;,\n",
       "                                                  [&#x27;bib&#x27;]),\n",
       "                                                 (&#x27;c...\n",
       "                                                                             &#x27;Montrose&#x27;,\n",
       "                                                                             &#x27;Milford&#x27;,\n",
       "                                                                             &#x27;Mackinac &#x27;\n",
       "                                                                             &#x27;Island&#x27;,\n",
       "                                                                             &#x27;Sault &#x27;\n",
       "                                                                             &#x27;Ste. &#x27;\n",
       "                                                                             &#x27;Marie&#x27;, ...]],\n",
       "                                                                handle_unknown=&#x27;ignore&#x27;),\n",
       "                                                  [&#x27;location.city&#x27;])])),\n",
       "                (&#x27;preprocessor&#x27;, StandardScaler()),\n",
       "                (&#x27;fix_nans&#x27;, SimpleImputer(strategy=&#x27;most_frequent&#x27;)),\n",
       "                (&#x27;regressor&#x27;,\n",
       "                 TransformedTargetRegressor(inverse_func=&lt;function evaluation_function at 0x7f5126ad2700&gt;,\n",
       "                                            regressor=RandomForestRegressor(n_estimators=50)))])</pre><b>In a Jupyter environment, please rerun this cell to show the HTML representation or trust the notebook. <br />On GitHub, the HTML representation is unable to render, please try loading this page with nbviewer.org.</b></div><div class=\"sk-container\" hidden><div class=\"sk-item sk-dashed-wrapped\"><div class=\"sk-label-container\"><div class=\"sk-label sk-toggleable\"><input class=\"sk-toggleable__control sk-hidden--visually\" id=\"sk-estimator-id-453\" type=\"checkbox\" ><label for=\"sk-estimator-id-453\" class=\"sk-toggleable__label sk-toggleable__label-arrow\">Pipeline</label><div class=\"sk-toggleable__content\"><pre>Pipeline(steps=[(&#x27;cleaner&#x27;,\n",
       "                 ColumnTransformer(transformers=[(&#x27;sex&#x27;, &#x27;passthrough&#x27;,\n",
       "                                                  [&#x27;sex&#x27;]),\n",
       "                                                 (&#x27;age&#x27;, &#x27;passthrough&#x27;,\n",
       "                                                  [&#x27;age&#x27;]),\n",
       "                                                 (&#x27;price&#x27;, &#x27;passthrough&#x27;,\n",
       "                                                  [&#x27;price&#x27;]),\n",
       "                                                 (&#x27;counts.participants.expected&#x27;,\n",
       "                                                  &#x27;passthrough&#x27;,\n",
       "                                                  [&#x27;counts.participants.expected&#x27;]),\n",
       "                                                 (&#x27;counts.participants.registered&#x27;,\n",
       "                                                  &#x27;passthrough&#x27;,\n",
       "                                                  [&#x27;counts.participants.registered&#x27;]),\n",
       "                                                 (&#x27;bib&#x27;, &#x27;passthrough&#x27;,\n",
       "                                                  [&#x27;bib&#x27;]),\n",
       "                                                 (&#x27;c...\n",
       "                                                                             &#x27;Montrose&#x27;,\n",
       "                                                                             &#x27;Milford&#x27;,\n",
       "                                                                             &#x27;Mackinac &#x27;\n",
       "                                                                             &#x27;Island&#x27;,\n",
       "                                                                             &#x27;Sault &#x27;\n",
       "                                                                             &#x27;Ste. &#x27;\n",
       "                                                                             &#x27;Marie&#x27;, ...]],\n",
       "                                                                handle_unknown=&#x27;ignore&#x27;),\n",
       "                                                  [&#x27;location.city&#x27;])])),\n",
       "                (&#x27;preprocessor&#x27;, StandardScaler()),\n",
       "                (&#x27;fix_nans&#x27;, SimpleImputer(strategy=&#x27;most_frequent&#x27;)),\n",
       "                (&#x27;regressor&#x27;,\n",
       "                 TransformedTargetRegressor(inverse_func=&lt;function evaluation_function at 0x7f5126ad2700&gt;,\n",
       "                                            regressor=RandomForestRegressor(n_estimators=50)))])</pre></div></div></div><div class=\"sk-serial\"><div class=\"sk-item sk-dashed-wrapped\"><div class=\"sk-label-container\"><div class=\"sk-label sk-toggleable\"><input class=\"sk-toggleable__control sk-hidden--visually\" id=\"sk-estimator-id-454\" type=\"checkbox\" ><label for=\"sk-estimator-id-454\" class=\"sk-toggleable__label sk-toggleable__label-arrow\">cleaner: ColumnTransformer</label><div class=\"sk-toggleable__content\"><pre>ColumnTransformer(transformers=[(&#x27;sex&#x27;, &#x27;passthrough&#x27;, [&#x27;sex&#x27;]),\n",
       "                                (&#x27;age&#x27;, &#x27;passthrough&#x27;, [&#x27;age&#x27;]),\n",
       "                                (&#x27;price&#x27;, &#x27;passthrough&#x27;, [&#x27;price&#x27;]),\n",
       "                                (&#x27;counts.participants.expected&#x27;, &#x27;passthrough&#x27;,\n",
       "                                 [&#x27;counts.participants.expected&#x27;]),\n",
       "                                (&#x27;counts.participants.registered&#x27;,\n",
       "                                 &#x27;passthrough&#x27;,\n",
       "                                 [&#x27;counts.participants.registered&#x27;]),\n",
       "                                (&#x27;bib&#x27;, &#x27;passthrough&#x27;, [&#x27;bib&#x27;]),\n",
       "                                (&#x27;clean_categories_run_count&#x27;,...\n",
       "                                                            &#x27;Tampa&#x27;, &#x27;Atlanta&#x27;,\n",
       "                                                            &#x27;Chicago&#x27;,\n",
       "                                                            &#x27;Highland Park&#x27;,\n",
       "                                                            &#x27;Elk Grove Village&#x27;,\n",
       "                                                            &#x27;Oak Park&#x27;,\n",
       "                                                            &#x27;Indianapolis&#x27;,\n",
       "                                                            &#x27;Port Huron&#x27;,\n",
       "                                                            &#x27;Flint&#x27;,\n",
       "                                                            &#x27;Swartz Creek&#x27;,\n",
       "                                                            &#x27;Royal Oak&#x27;,\n",
       "                                                            &#x27;Pinconning&#x27;,\n",
       "                                                            &#x27;Roscommon&#x27;,\n",
       "                                                            &#x27;Plymouth&#x27;,\n",
       "                                                            &#x27;Algonac&#x27;, &#x27;Fenton&#x27;,\n",
       "                                                            &#x27;Detroit&#x27;, &#x27;Pigeon&#x27;,\n",
       "                                                            &#x27;Bloomfield Hills&#x27;,\n",
       "                                                            &#x27;Rogers City&#x27;,\n",
       "                                                            &#x27;Caseville&#x27;,\n",
       "                                                            &#x27;Montrose&#x27;,\n",
       "                                                            &#x27;Milford&#x27;,\n",
       "                                                            &#x27;Mackinac Island&#x27;,\n",
       "                                                            &#x27;Sault Ste. Marie&#x27;, ...]],\n",
       "                                               handle_unknown=&#x27;ignore&#x27;),\n",
       "                                 [&#x27;location.city&#x27;])])</pre></div></div></div><div class=\"sk-parallel\"><div class=\"sk-parallel-item\"><div class=\"sk-item\"><div class=\"sk-label-container\"><div class=\"sk-label sk-toggleable\"><input class=\"sk-toggleable__control sk-hidden--visually\" id=\"sk-estimator-id-455\" type=\"checkbox\" ><label for=\"sk-estimator-id-455\" class=\"sk-toggleable__label sk-toggleable__label-arrow\">sex</label><div class=\"sk-toggleable__content\"><pre>[&#x27;sex&#x27;]</pre></div></div></div><div class=\"sk-serial\"><div class=\"sk-item\"><div class=\"sk-estimator sk-toggleable\"><input class=\"sk-toggleable__control sk-hidden--visually\" id=\"sk-estimator-id-456\" type=\"checkbox\" ><label for=\"sk-estimator-id-456\" class=\"sk-toggleable__label sk-toggleable__label-arrow\">passthrough</label><div class=\"sk-toggleable__content\"><pre>passthrough</pre></div></div></div></div></div></div><div class=\"sk-parallel-item\"><div class=\"sk-item\"><div class=\"sk-label-container\"><div class=\"sk-label sk-toggleable\"><input class=\"sk-toggleable__control sk-hidden--visually\" id=\"sk-estimator-id-457\" type=\"checkbox\" ><label for=\"sk-estimator-id-457\" class=\"sk-toggleable__label sk-toggleable__label-arrow\">age</label><div class=\"sk-toggleable__content\"><pre>[&#x27;age&#x27;]</pre></div></div></div><div class=\"sk-serial\"><div class=\"sk-item\"><div class=\"sk-estimator sk-toggleable\"><input class=\"sk-toggleable__control sk-hidden--visually\" id=\"sk-estimator-id-458\" type=\"checkbox\" ><label for=\"sk-estimator-id-458\" class=\"sk-toggleable__label sk-toggleable__label-arrow\">passthrough</label><div class=\"sk-toggleable__content\"><pre>passthrough</pre></div></div></div></div></div></div><div class=\"sk-parallel-item\"><div class=\"sk-item\"><div class=\"sk-label-container\"><div class=\"sk-label sk-toggleable\"><input class=\"sk-toggleable__control sk-hidden--visually\" id=\"sk-estimator-id-459\" type=\"checkbox\" ><label for=\"sk-estimator-id-459\" class=\"sk-toggleable__label sk-toggleable__label-arrow\">price</label><div class=\"sk-toggleable__content\"><pre>[&#x27;price&#x27;]</pre></div></div></div><div class=\"sk-serial\"><div class=\"sk-item\"><div class=\"sk-estimator sk-toggleable\"><input class=\"sk-toggleable__control sk-hidden--visually\" id=\"sk-estimator-id-460\" type=\"checkbox\" ><label for=\"sk-estimator-id-460\" class=\"sk-toggleable__label sk-toggleable__label-arrow\">passthrough</label><div class=\"sk-toggleable__content\"><pre>passthrough</pre></div></div></div></div></div></div><div class=\"sk-parallel-item\"><div class=\"sk-item\"><div class=\"sk-label-container\"><div class=\"sk-label sk-toggleable\"><input class=\"sk-toggleable__control sk-hidden--visually\" id=\"sk-estimator-id-461\" type=\"checkbox\" ><label for=\"sk-estimator-id-461\" class=\"sk-toggleable__label sk-toggleable__label-arrow\">counts.participants.expected</label><div class=\"sk-toggleable__content\"><pre>[&#x27;counts.participants.expected&#x27;]</pre></div></div></div><div class=\"sk-serial\"><div class=\"sk-item\"><div class=\"sk-estimator sk-toggleable\"><input class=\"sk-toggleable__control sk-hidden--visually\" id=\"sk-estimator-id-462\" type=\"checkbox\" ><label for=\"sk-estimator-id-462\" class=\"sk-toggleable__label sk-toggleable__label-arrow\">passthrough</label><div class=\"sk-toggleable__content\"><pre>passthrough</pre></div></div></div></div></div></div><div class=\"sk-parallel-item\"><div class=\"sk-item\"><div class=\"sk-label-container\"><div class=\"sk-label sk-toggleable\"><input class=\"sk-toggleable__control sk-hidden--visually\" id=\"sk-estimator-id-463\" type=\"checkbox\" ><label for=\"sk-estimator-id-463\" class=\"sk-toggleable__label sk-toggleable__label-arrow\">counts.participants.registered</label><div class=\"sk-toggleable__content\"><pre>[&#x27;counts.participants.registered&#x27;]</pre></div></div></div><div class=\"sk-serial\"><div class=\"sk-item\"><div class=\"sk-estimator sk-toggleable\"><input class=\"sk-toggleable__control sk-hidden--visually\" id=\"sk-estimator-id-464\" type=\"checkbox\" ><label for=\"sk-estimator-id-464\" class=\"sk-toggleable__label sk-toggleable__label-arrow\">passthrough</label><div class=\"sk-toggleable__content\"><pre>passthrough</pre></div></div></div></div></div></div><div class=\"sk-parallel-item\"><div class=\"sk-item\"><div class=\"sk-label-container\"><div class=\"sk-label sk-toggleable\"><input class=\"sk-toggleable__control sk-hidden--visually\" id=\"sk-estimator-id-465\" type=\"checkbox\" ><label for=\"sk-estimator-id-465\" class=\"sk-toggleable__label sk-toggleable__label-arrow\">bib</label><div class=\"sk-toggleable__content\"><pre>[&#x27;bib&#x27;]</pre></div></div></div><div class=\"sk-serial\"><div class=\"sk-item\"><div class=\"sk-estimator sk-toggleable\"><input class=\"sk-toggleable__control sk-hidden--visually\" id=\"sk-estimator-id-466\" type=\"checkbox\" ><label for=\"sk-estimator-id-466\" class=\"sk-toggleable__label sk-toggleable__label-arrow\">passthrough</label><div class=\"sk-toggleable__content\"><pre>passthrough</pre></div></div></div></div></div></div><div class=\"sk-parallel-item\"><div class=\"sk-item\"><div class=\"sk-label-container\"><div class=\"sk-label sk-toggleable\"><input class=\"sk-toggleable__control sk-hidden--visually\" id=\"sk-estimator-id-467\" type=\"checkbox\" ><label for=\"sk-estimator-id-467\" class=\"sk-toggleable__label sk-toggleable__label-arrow\">clean_categories_run_count</label><div class=\"sk-toggleable__content\"><pre>[&#x27;clean_categories_run_count&#x27;]</pre></div></div></div><div class=\"sk-serial\"><div class=\"sk-item\"><div class=\"sk-estimator sk-toggleable\"><input class=\"sk-toggleable__control sk-hidden--visually\" id=\"sk-estimator-id-468\" type=\"checkbox\" ><label for=\"sk-estimator-id-468\" class=\"sk-toggleable__label sk-toggleable__label-arrow\">passthrough</label><div class=\"sk-toggleable__content\"><pre>passthrough</pre></div></div></div></div></div></div><div class=\"sk-parallel-item\"><div class=\"sk-item\"><div class=\"sk-label-container\"><div class=\"sk-label sk-toggleable\"><input class=\"sk-toggleable__control sk-hidden--visually\" id=\"sk-estimator-id-469\" type=\"checkbox\" ><label for=\"sk-estimator-id-469\" class=\"sk-toggleable__label sk-toggleable__label-arrow\">clean_categories_walk_count</label><div class=\"sk-toggleable__content\"><pre>[&#x27;clean_categories_walk_count&#x27;]</pre></div></div></div><div class=\"sk-serial\"><div class=\"sk-item\"><div class=\"sk-estimator sk-toggleable\"><input class=\"sk-toggleable__control sk-hidden--visually\" id=\"sk-estimator-id-470\" type=\"checkbox\" ><label for=\"sk-estimator-id-470\" class=\"sk-toggleable__label sk-toggleable__label-arrow\">passthrough</label><div class=\"sk-toggleable__content\"><pre>passthrough</pre></div></div></div></div></div></div><div class=\"sk-parallel-item\"><div class=\"sk-item\"><div class=\"sk-label-container\"><div class=\"sk-label sk-toggleable\"><input class=\"sk-toggleable__control sk-hidden--visually\" id=\"sk-estimator-id-471\" type=\"checkbox\" ><label for=\"sk-estimator-id-471\" class=\"sk-toggleable__label sk-toggleable__label-arrow\">location.state</label><div class=\"sk-toggleable__content\"><pre>[&#x27;location.state&#x27;]</pre></div></div></div><div class=\"sk-serial\"><div class=\"sk-item\"><div class=\"sk-estimator sk-toggleable\"><input class=\"sk-toggleable__control sk-hidden--visually\" id=\"sk-estimator-id-472\" type=\"checkbox\" ><label for=\"sk-estimator-id-472\" class=\"sk-toggleable__label sk-toggleable__label-arrow\">OneHotEncoder</label><div class=\"sk-toggleable__content\"><pre>OneHotEncoder(categories=[[&#x27;AZ&#x27;, &#x27;CA&#x27;, &#x27;CO&#x27;, &#x27;FL&#x27;, &#x27;GA&#x27;, &#x27;IL&#x27;, &#x27;IN&#x27;, &#x27;MI&#x27;, &#x27;MN&#x27;,\n",
       "                           &#x27;MO&#x27;, &#x27;NM&#x27;, &#x27;NC&#x27;, &#x27;OH&#x27;, &#x27;OK&#x27;, &#x27;OR&#x27;, &#x27;PA&#x27;, &#x27;TN&#x27;, &#x27;TX&#x27;,\n",
       "                           &#x27;VA&#x27;, &#x27;WA&#x27;, &#x27;WV&#x27;, &#x27;WI&#x27;]],\n",
       "              handle_unknown=&#x27;ignore&#x27;)</pre></div></div></div></div></div></div><div class=\"sk-parallel-item\"><div class=\"sk-item\"><div class=\"sk-label-container\"><div class=\"sk-label sk-toggleable\"><input class=\"sk-toggleable__control sk-hidden--visually\" id=\"sk-estimator-id-473\" type=\"checkbox\" ><label for=\"sk-estimator-id-473\" class=\"sk-toggleable__label sk-toggleable__label-arrow\">event.date.start</label><div class=\"sk-toggleable__content\"><pre>[&#x27;event.date.start&#x27;]</pre></div></div></div><div class=\"sk-serial\"><div class=\"sk-item\"><div class=\"sk-estimator sk-toggleable\"><input class=\"sk-toggleable__control sk-hidden--visually\" id=\"sk-estimator-id-474\" type=\"checkbox\" ><label for=\"sk-estimator-id-474\" class=\"sk-toggleable__label sk-toggleable__label-arrow\">OneHotEncoder</label><div class=\"sk-toggleable__content\"><pre>OneHotEncoder(categories=[[&#x27;2017-12-03&#x27;, &#x27;2018-12-02&#x27;, &#x27;2018-01-07&#x27;,\n",
       "                           &#x27;2018-03-18&#x27;, &#x27;2018-05-06&#x27;, &#x27;2017-10-01&#x27;,\n",
       "                           &#x27;2018-10-07&#x27;, &#x27;2017-12-17&#x27;, &#x27;2018-12-16&#x27;,\n",
       "                           &#x27;2018-02-04&#x27;, &#x27;2017-06-04&#x27;, &#x27;2017-09-09&#x27;,\n",
       "                           &#x27;2017-10-29&#x27;, &#x27;2018-04-29&#x27;, &#x27;2018-05-05&#x27;,\n",
       "                           &#x27;2018-06-03&#x27;, &#x27;2018-06-07&#x27;, &#x27;2018-06-21&#x27;,\n",
       "                           &#x27;2018-06-23&#x27;, &#x27;2018-09-08&#x27;, &#x27;2018-09-30&#x27;,\n",
       "                           &#x27;2018-10-14&#x27;, &#x27;2018-10-20&#x27;, &#x27;2018-10-21&#x27;,\n",
       "                           &#x27;2018-11-04&#x27;, &#x27;2018-11-22&#x27;, &#x27;2018-12-31&#x27;,\n",
       "                           &#x27;2018-03-24&#x27;, &#x27;2018-05-12&#x27;, &#x27;2018-05-31&#x27;, ...]],\n",
       "              handle_unknown=&#x27;ignore&#x27;, sparse=False)</pre></div></div></div></div></div></div><div class=\"sk-parallel-item\"><div class=\"sk-item\"><div class=\"sk-label-container\"><div class=\"sk-label sk-toggleable\"><input class=\"sk-toggleable__control sk-hidden--visually\" id=\"sk-estimator-id-475\" type=\"checkbox\" ><label for=\"sk-estimator-id-475\" class=\"sk-toggleable__label sk-toggleable__label-arrow\">result.primary_bracket</label><div class=\"sk-toggleable__content\"><pre>[&#x27;result.primary_bracket&#x27;]</pre></div></div></div><div class=\"sk-serial\"><div class=\"sk-item\"><div class=\"sk-estimator sk-toggleable\"><input class=\"sk-toggleable__control sk-hidden--visually\" id=\"sk-estimator-id-476\" type=\"checkbox\" ><label for=\"sk-estimator-id-476\" class=\"sk-toggleable__label sk-toggleable__label-arrow\">passthrough</label><div class=\"sk-toggleable__content\"><pre>passthrough</pre></div></div></div></div></div></div><div class=\"sk-parallel-item\"><div class=\"sk-item\"><div class=\"sk-label-container\"><div class=\"sk-label sk-toggleable\"><input class=\"sk-toggleable__control sk-hidden--visually\" id=\"sk-estimator-id-477\" type=\"checkbox\" ><label for=\"sk-estimator-id-477\" class=\"sk-toggleable__label sk-toggleable__label-arrow\">location.city</label><div class=\"sk-toggleable__content\"><pre>[&#x27;location.city&#x27;]</pre></div></div></div><div class=\"sk-serial\"><div class=\"sk-item\"><div class=\"sk-estimator sk-toggleable\"><input class=\"sk-toggleable__control sk-hidden--visually\" id=\"sk-estimator-id-478\" type=\"checkbox\" ><label for=\"sk-estimator-id-478\" class=\"sk-toggleable__label sk-toggleable__label-arrow\">OneHotEncoder</label><div class=\"sk-toggleable__content\"><pre>OneHotEncoder(categories=[[&#x27;Scottsdale&#x27;, &#x27;San Francisco&#x27;, &#x27;San Diego&#x27;, &#x27;Arcata&#x27;,\n",
       "                           &#x27;Denver&#x27;, &#x27;Tampa&#x27;, &#x27;Atlanta&#x27;, &#x27;Chicago&#x27;,\n",
       "                           &#x27;Highland Park&#x27;, &#x27;Elk Grove Village&#x27;, &#x27;Oak Park&#x27;,\n",
       "                           &#x27;Indianapolis&#x27;, &#x27;Port Huron&#x27;, &#x27;Flint&#x27;,\n",
       "                           &#x27;Swartz Creek&#x27;, &#x27;Royal Oak&#x27;, &#x27;Pinconning&#x27;,\n",
       "                           &#x27;Roscommon&#x27;, &#x27;Plymouth&#x27;, &#x27;Algonac&#x27;, &#x27;Fenton&#x27;,\n",
       "                           &#x27;Detroit&#x27;, &#x27;Pigeon&#x27;, &#x27;Bloomfield Hills&#x27;,\n",
       "                           &#x27;Rogers City&#x27;, &#x27;Caseville&#x27;, &#x27;Montrose&#x27;, &#x27;Milford&#x27;,\n",
       "                           &#x27;Mackinac Island&#x27;, &#x27;Sault Ste. Marie&#x27;, ...]],\n",
       "              handle_unknown=&#x27;ignore&#x27;)</pre></div></div></div></div></div></div></div></div><div class=\"sk-item\"><div class=\"sk-estimator sk-toggleable\"><input class=\"sk-toggleable__control sk-hidden--visually\" id=\"sk-estimator-id-479\" type=\"checkbox\" ><label for=\"sk-estimator-id-479\" class=\"sk-toggleable__label sk-toggleable__label-arrow\">StandardScaler</label><div class=\"sk-toggleable__content\"><pre>StandardScaler()</pre></div></div></div><div class=\"sk-item\"><div class=\"sk-estimator sk-toggleable\"><input class=\"sk-toggleable__control sk-hidden--visually\" id=\"sk-estimator-id-480\" type=\"checkbox\" ><label for=\"sk-estimator-id-480\" class=\"sk-toggleable__label sk-toggleable__label-arrow\">SimpleImputer</label><div class=\"sk-toggleable__content\"><pre>SimpleImputer(strategy=&#x27;most_frequent&#x27;)</pre></div></div></div><div class=\"sk-item sk-dashed-wrapped\"><div class=\"sk-label-container\"><div class=\"sk-label sk-toggleable\"><input class=\"sk-toggleable__control sk-hidden--visually\" id=\"sk-estimator-id-481\" type=\"checkbox\" ><label for=\"sk-estimator-id-481\" class=\"sk-toggleable__label sk-toggleable__label-arrow\">regressor: TransformedTargetRegressor</label><div class=\"sk-toggleable__content\"><pre>TransformedTargetRegressor(inverse_func=&lt;function evaluation_function at 0x7f5126ad2700&gt;,\n",
       "                           regressor=RandomForestRegressor(n_estimators=50))</pre></div></div></div><div class=\"sk-parallel\"><div class=\"sk-parallel-item\"><div class=\"sk-item\"><div class=\"sk-label-container\"><div class=\"sk-label sk-toggleable\"><input class=\"sk-toggleable__control sk-hidden--visually\" id=\"sk-estimator-id-482\" type=\"checkbox\" ><label for=\"sk-estimator-id-482\" class=\"sk-toggleable__label sk-toggleable__label-arrow\">regressor: RandomForestRegressor</label><div class=\"sk-toggleable__content\"><pre>RandomForestRegressor(n_estimators=50)</pre></div></div></div><div class=\"sk-serial\"><div class=\"sk-item\"><div class=\"sk-estimator sk-toggleable\"><input class=\"sk-toggleable__control sk-hidden--visually\" id=\"sk-estimator-id-483\" type=\"checkbox\" ><label for=\"sk-estimator-id-483\" class=\"sk-toggleable__label sk-toggleable__label-arrow\">RandomForestRegressor</label><div class=\"sk-toggleable__content\"><pre>RandomForestRegressor(n_estimators=50)</pre></div></div></div></div></div></div></div></div></div></div></div></div>"
      ],
      "text/plain": [
       "Pipeline(steps=[('cleaner',\n",
       "                 ColumnTransformer(transformers=[('sex', 'passthrough',\n",
       "                                                  ['sex']),\n",
       "                                                 ('age', 'passthrough',\n",
       "                                                  ['age']),\n",
       "                                                 ('price', 'passthrough',\n",
       "                                                  ['price']),\n",
       "                                                 ('counts.participants.expected',\n",
       "                                                  'passthrough',\n",
       "                                                  ['counts.participants.expected']),\n",
       "                                                 ('counts.participants.registered',\n",
       "                                                  'passthrough',\n",
       "                                                  ['counts.participants.registered']),\n",
       "                                                 ('bib', 'passthrough',\n",
       "                                                  ['bib']),\n",
       "                                                 ('c...\n",
       "                                                                             'Montrose',\n",
       "                                                                             'Milford',\n",
       "                                                                             'Mackinac '\n",
       "                                                                             'Island',\n",
       "                                                                             'Sault '\n",
       "                                                                             'Ste. '\n",
       "                                                                             'Marie', ...]],\n",
       "                                                                handle_unknown='ignore'),\n",
       "                                                  ['location.city'])])),\n",
       "                ('preprocessor', StandardScaler()),\n",
       "                ('fix_nans', SimpleImputer(strategy='most_frequent')),\n",
       "                ('regressor',\n",
       "                 TransformedTargetRegressor(inverse_func=<function evaluation_function at 0x7f5126ad2700>,\n",
       "                                            regressor=RandomForestRegressor(n_estimators=50)))])"
      ]
     },
     "metadata": {},
     "output_type": "display_data"
    },
    {
     "data": {
      "text/plain": [
       "<Figure size 864x576 with 0 Axes>"
      ]
     },
     "metadata": {},
     "output_type": "display_data"
    }
   ],
   "source": [
    "# That assignment should pass the autograder. A more pythonic way to do this, and certainly\n",
    "# the goal of the sklearn team, is to use pipelines, and reuse transformer objects to do the\n",
    "# data cleaning. In sklearn pipelines are made up of a sequence of Transformers with the last\n",
    "# item in the pipeline being an Estimator. You can have Estimators throughout the pipeline\n",
    "# too, creating new features through modeling. For instance, you could use PCA to reduce the\n",
    "# dimensionality of features and then learn on principal components instead.\n",
    "\n",
    "import matplotlib.pyplot as plt\n",
    "plt.figure(figsize=(12, 8))\n",
    "\n",
    "# We can write a similar model to the above using pipelines and transformers. A good example\n",
    "# would be to first create a transformer for the columns of sex and age, and get rid of\n",
    "# everything else while one hot encoding sex\n",
    "\n",
    "\n",
    "from sklearn.preprocessing import OneHotEncoder\n",
    "from sklearn.compose import ColumnTransformer\n",
    "\n",
    "\n",
    "cleaner = ColumnTransformer(\n",
    "    transformers=[\n",
    "        (\"sex\", 'passthrough', ['sex']),\n",
    "        ('age', 'passthrough', ['age']),\n",
    "        ('price', 'passthrough', ['price']),\n",
    "        ('counts.participants.expected', 'passthrough', ['counts.participants.expected']),\n",
    "        ('counts.participants.registered', 'passthrough', ['counts.participants.registered']),\n",
    "        ('bib', 'passthrough', ['bib']),\n",
    "        ('clean_categories_run_count', 'passthrough', ['clean_categories_run_count']),\n",
    "        ('clean_categories_walk_count', 'passthrough', ['clean_categories_walk_count']),\n",
    "        ('location.state', OneHotEncoder(categories=[['AZ', 'CA', 'CO', 'FL', 'GA', 'IL', 'IN', 'MI', 'MN', 'MO', 'NM',\n",
    "       'NC', 'OH', 'OK', 'OR', 'PA', 'TN', 'TX', 'VA', 'WA', 'WV', 'WI']], handle_unknown='ignore'), ['location.state']),\n",
    "        ('event.date.start', OneHotEncoder(sparse=False,categories=[['2017-12-03', '2018-12-02', '2018-01-07', '2018-03-18',\n",
    "       '2018-05-06', '2017-10-01', '2018-10-07', '2017-12-17',\n",
    "       '2018-12-16', '2018-02-04', '2017-06-04', '2017-09-09',\n",
    "       '2017-10-29', '2018-04-29', '2018-05-05', '2018-06-03',\n",
    "       '2018-06-07', '2018-06-21', '2018-06-23', '2018-09-08',\n",
    "       '2018-09-30', '2018-10-14', '2018-10-20', '2018-10-21',\n",
    "       '2018-11-04', '2018-11-22', '2018-12-31', '2018-03-24',\n",
    "       '2018-05-12', '2018-05-31', '2018-06-02', '2018-06-16',\n",
    "       '2018-06-17', '2018-06-30', '2018-07-14', '2018-07-15',\n",
    "       '2018-07-19', '2018-07-21', '2018-07-28', '2018-08-04',\n",
    "       '2018-08-11', '2018-08-16', '2018-08-19', '2018-08-25',\n",
    "       '2018-09-01', '2018-09-29', '2018-10-13', '2018-10-27',\n",
    "       '2018-11-23', '2018-04-14', '2017-12-10', '2018-12-09',\n",
    "       '2017-09-17', '2018-09-16', '2018-02-10', '2017-11-05',\n",
    "       '2018-06-01', '2018-07-27', '2018-09-03', '2018-10-06',\n",
    "       '2018-11-18', '2018-12-22', '2012-08-11', '2013-01-01',\n",
    "       '2013-08-10', '2014-09-27', '2015-01-01', '2015-08-15',\n",
    "       '2015-09-26', '2015-12-12', '2016-03-12', '2016-08-20',\n",
    "       '2016-08-27', '2016-10-02', '2016-10-22', '2016-12-10',\n",
    "       '2017-03-11', '2017-08-26', '2017-09-16', '2017-09-23',\n",
    "       '2017-09-30', '2017-10-28', '2018-03-31', '2018-09-15',\n",
    "       '2018-11-03', '2018-11-17', '2018-12-01', '2018-09-23',\n",
    "       '2018-04-07', '2018-02-17', '2018-01-28', '2018-02-03',\n",
    "       '2016-03-26', '2016-07-16', '2017-03-25', '2017-06-10',\n",
    "       '2017-07-15', '2018-06-09', '2018-06-10', '2018-03-04',\n",
    "       '2018-08-18', '2018-09-22']], handle_unknown='ignore'), ['event.date.start']),\n",
    "        ('result.primary_bracket', 'passthrough', ['result.primary_bracket']),\n",
    "        ('location.city', OneHotEncoder(categories=[['Scottsdale', 'San Francisco', 'San Diego', 'Arcata', 'Denver',\n",
    "       'Tampa', 'Atlanta', 'Chicago', 'Highland Park',\n",
    "       'Elk Grove Village', 'Oak Park', 'Indianapolis', 'Port Huron',\n",
    "       'Flint', 'Swartz Creek', 'Royal Oak', 'Pinconning', 'Roscommon',\n",
    "       'Plymouth', 'Algonac', 'Fenton', 'Detroit', 'Pigeon',\n",
    "       'Bloomfield Hills', 'Rogers City', 'Caseville', 'Montrose',\n",
    "       'Milford', 'Mackinac Island', 'Sault Ste. Marie', 'East Lansing',\n",
    "       'Williamston', 'Howell', 'Minneapolis', 'St. Louis', 'Santa Fe',\n",
    "       'Charlotte', 'Columbus', 'Canal Fulton', 'Brewster', 'Hartville',\n",
    "       'Strasburg', 'North Canton', 'Clinton', 'Cadiz', 'Dalton',\n",
    "       'Alliance', 'Barberton', 'Millersburg', 'Peninsula', 'Bolivar',\n",
    "       'Massillon', 'Canton', 'Akron', 'Oklahoma City', 'Tulsa', 'Norman',\n",
    "       'Edmond', 'Lawton', 'Stillwater', 'Moore', 'Perry', 'Seiling',\n",
    "       'Bethany', 'Elk City', 'Sulphur', 'Yukon', 'Beaverton', 'Salem',\n",
    "       'Albany', 'Philadelphia', 'Nashville', 'Houston', 'Dallas',\n",
    "       'Virginia Beach', 'Fairfax', 'West Point', 'Seattle',\n",
    "       'Parkersburg', 'Milwaukee']], handle_unknown='ignore'), ['location.city']),\n",
    "    ], remainder='drop')\n",
    "\n",
    "# Then we create a three stage pipeline, where the first step applies the column transformer,\n",
    "# the next step fills our missing values, and the third step is a regression model. But remember,\n",
    "# this isn't a simple regression, we need an ordinal classification. To do this we can wrap\n",
    "# the linear regressor in another class which will transform the regression output. This class\n",
    "# is called the TransformedTargetRegressor, and we can tell it what function we want to apply\n",
    "# to the final output before returning the predictions.\n",
    "\n",
    "\n",
    "def evaluation_function(x):\n",
    "    '''Must return a ndarray of the rankings in order, the autograder will then create\n",
    "    a dataframe out of this with x.index as the index. Props to Rachell Calhoun!'''\n",
    "    return pd.Series(x.squeeze()).rank().values\n",
    "\n",
    "# We can wrap a linear regressor by setting the inverse_func to evaluation_function\n",
    "from sklearn.compose import TransformedTargetRegressor\n",
    "from sklearn.linear_model import LinearRegression\n",
    "\n",
    "#estimators = [('ETR', ExtraTreesRegressor(n_estimators=900, max_depth=4)),('RFR', RandomForestRegressor(n_estimators=50,criterion='squared_error')),('XGBR', XGBRegressor(n_estimators=150, max_depth=1,eta=0.5,subsample=0.1,colsample_bytree=1))]\n",
    "#reg = TransformedTargetRegressor(regressor=StackingRegressor(estimators=estimators, final_estimator=ExtraTreesRegressor(n_estimators=900, max_depth=4)), inverse_func=evaluation_function)\n",
    "\n",
    "#estimators = [('ETR', ExtraTreesRegressor())]\n",
    "#reg=TransformedTargetRegressor(regressor=ExtraTreesRegressor(n_estimators=900, criterion='squared_error', max_depth=4, min_samples_split=2, min_samples_leaf=1, min_weight_fraction_leaf=0.0, max_features=1.0, max_leaf_nodes=None, min_impurity_decrease=0.0, bootstrap=False, oob_score=False, n_jobs=None, random_state=None, verbose=0, warm_start=False, ccp_alpha=0.0, max_samples=None), inverse_func=evaluation_function)\n",
    "#reg = TransformedTargetRegressor(regressor=LinearRegression(fit_intercept=True, copy_X=True, n_jobs=None, positive=False), inverse_func=evaluation_function)\n",
    "#reg = TransformedTargetRegressor(regressor=LinearRegression(), inverse_func=evaluation_function)\n",
    "reg = TransformedTargetRegressor(regressor=RandomForestRegressor(n_estimators=50,criterion='squared_error'), inverse_func=evaluation_function)\n",
    "\n",
    "# Now we can build our three part pipeline\n",
    "from sklearn.pipeline import Pipeline\n",
    "from sklearn.impute import SimpleImputer\n",
    "pipe = Pipeline(\n",
    "    steps=[\n",
    "        (\"cleaner\", cleaner),\n",
    "        ('preprocessor', preprocessor),\n",
    "        (\"fix_nans\", SimpleImputer(missing_values=np.nan, strategy='most_frequent')),\n",
    "        (\"regressor\", reg)\n",
    "    ])\n",
    "\n",
    "# We can display the pipeline to see what it looks like and get a sense of data flow\n",
    "from sklearn import set_config\n",
    "set_config(display=\"diagram\")\n",
    "display(pipe)"
   ]
  },
  {
   "cell_type": "code",
   "execution_count": 23,
   "id": "df26a9a2-e7fb-4630-8c73-e39eab5ebc8c",
   "metadata": {},
   "outputs": [],
   "source": [
    "#VR = VotingRegressor(estimators=10)\n",
    "#print('Parameters currently in use:\\n')\n",
    "#print(VR.get_params())"
   ]
  },
  {
   "cell_type": "code",
   "execution_count": 124,
   "id": "c4c0b013-bb9e-4e00-9c68-86b73def80b5",
   "metadata": {},
   "outputs": [
    {
     "name": "stdout",
     "output_type": "stream",
     "text": [
      "Parameters currently in use:\n",
      "\n",
      "{'bootstrap': False, 'ccp_alpha': 0.0, 'criterion': 'squared_error', 'max_depth': None, 'max_features': 1.0, 'max_leaf_nodes': None, 'max_samples': None, 'min_impurity_decrease': 0.0, 'min_samples_leaf': 1, 'min_samples_split': 2, 'min_weight_fraction_leaf': 0.0, 'n_estimators': 100, 'n_jobs': None, 'oob_score': False, 'random_state': None, 'verbose': 0, 'warm_start': False}\n"
     ]
    }
   ],
   "source": [
    "#ETR = ExtraTreesRegressor()\n",
    "#print('Parameters currently in use:\\n')\n",
    "#print(ETR.get_params())"
   ]
  },
  {
   "cell_type": "code",
   "execution_count": 125,
   "id": "e9e7828f-68f0-4efe-a2bf-8eb23266eb87",
   "metadata": {},
   "outputs": [
    {
     "name": "stdout",
     "output_type": "stream",
     "text": [
      "Parameters currently in use:\n",
      "\n",
      "{'bootstrap': True, 'ccp_alpha': 0.0, 'criterion': 'squared_error', 'max_depth': None, 'max_features': 1.0, 'max_leaf_nodes': None, 'max_samples': None, 'min_impurity_decrease': 0.0, 'min_samples_leaf': 1, 'min_samples_split': 2, 'min_weight_fraction_leaf': 0.0, 'n_estimators': 100, 'n_jobs': None, 'oob_score': False, 'random_state': None, 'verbose': 0, 'warm_start': False}\n"
     ]
    }
   ],
   "source": [
    "#RFR = RandomForestRegressor()\n",
    "#print('Parameters currently in use:\\n')\n",
    "#print(RFR.get_params())"
   ]
  },
  {
   "cell_type": "code",
   "execution_count": 51,
   "id": "5f26ced9-3809-45fc-957d-c8f3690b9b08",
   "metadata": {},
   "outputs": [],
   "source": [
    "#from sklearn.model_selection import StratifiedKFold, cross_val_score, train_test_split, GridSearchCV, cross_validate, KFold, RepeatedKFold"
   ]
  },
  {
   "cell_type": "code",
   "execution_count": 57,
   "id": "dfeaa3fd-e278-429e-8d50-561c4cd5a0f4",
   "metadata": {},
   "outputs": [],
   "source": [
    "#check_nan = df['clean_categories_walk_count'].isnull().sum()\n",
    "#check_nan"
   ]
  },
  {
   "cell_type": "code",
   "execution_count": 58,
   "id": "04f4bfdb-216a-41c7-9520-3c4fcfdbaab7",
   "metadata": {},
   "outputs": [],
   "source": [
    "#df['age'].unique()"
   ]
  },
  {
   "cell_type": "code",
   "execution_count": 26,
   "id": "7a417682-3b88-4e84-ba8b-77fbb37b67e2",
   "metadata": {},
   "outputs": [
    {
     "data": {
      "text/plain": [
       "(51090, 4)"
      ]
     },
     "execution_count": 26,
     "metadata": {},
     "output_type": "execute_result"
    }
   ],
   "source": [
    "#features = train[['sex','age','clean_categories_run_count','clean_categories_walk_count']]\n",
    "#features=features.head(51080)\n",
    "#features.shape"
   ]
  },
  {
   "cell_type": "code",
   "execution_count": 28,
   "id": "f816ffe6-502e-4bd9-bfa6-07f897eb9026",
   "metadata": {},
   "outputs": [
    {
     "data": {
      "text/plain": [
       "(19999, 4)"
      ]
     },
     "execution_count": 28,
     "metadata": {},
     "output_type": "execute_result"
    }
   ],
   "source": [
    "#features_20000 = features.iloc[0:19999]\n",
    "#features_20000.shape"
   ]
  },
  {
   "cell_type": "code",
   "execution_count": 29,
   "id": "6c432bf7-24ff-47d0-9d65-985be113545e",
   "metadata": {},
   "outputs": [
    {
     "data": {
      "text/plain": [
       "(19999,)"
      ]
     },
     "execution_count": 29,
     "metadata": {},
     "output_type": "execute_result"
    }
   ],
   "source": [
    "#y_20000 = y.iloc[0:19999]\n",
    "#y_20000.shape"
   ]
  },
  {
   "cell_type": "code",
   "execution_count": 30,
   "id": "3833734c-cbb3-4d96-ae2a-873206d848c6",
   "metadata": {},
   "outputs": [],
   "source": [
    "#from sklearn.model_selection import train_test_split\n",
    "#X_train,X_test,y_train,y_test=train_test_split(features_20000,y_20000,random_state=0,test_size=0.2, train_size=0.8)"
   ]
  },
  {
   "cell_type": "code",
   "execution_count": 11,
   "id": "f8385335-73f9-4621-9e49-9d9bf1806d1b",
   "metadata": {},
   "outputs": [],
   "source": [
    "#folds = KFold(n_splits = 5, shuffle = True, random_state = 100)\n",
    "\n",
    "# identify parameters\n",
    "#param_grid = {'n_estimators': [50, 75, 100, 125, 150, 175, 200, 225, 250, 275, 300, 400, 500, 600, 700, 800, 900, 1000], \n",
    "#            'max_depth' : [1,2,3,4]} \n",
    "\n",
    "# perform grid search\n",
    "# specify model\n",
    "#ETR = ExtraTreesRegressor()\n",
    "#grid_pipeline_train_ETR = GridSearchCV(estimator=ETR, param_grid=param_grid, cv=folds, verbose=0)\n",
    "#grid_pipeline_train_ETR.fit(X_train, y_train)\n",
    "#grid_pipeline_train_ETR.best_params_"
   ]
  },
  {
   "cell_type": "code",
   "execution_count": 34,
   "id": "a836486e-ebd2-4dd0-97fe-961af48b54be",
   "metadata": {},
   "outputs": [
    {
     "name": "stdout",
     "output_type": "stream",
     "text": [
      "[Voting] ...................... (1 of 1) Processing ETR, total=  16.2s\n",
      "[Voting] ...................... (1 of 1) Processing ETR, total=  16.2s\n",
      "[Voting] ...................... (1 of 1) Processing ETR, total=  16.2s\n",
      "[Voting] ...................... (1 of 1) Processing ETR, total=  16.2s\n",
      "[Voting] ...................... (1 of 1) Processing ETR, total=  16.2s\n"
     ]
    },
    {
     "data": {
      "text/plain": [
       "{'verbose': False}"
      ]
     },
     "execution_count": 34,
     "metadata": {},
     "output_type": "execute_result"
    }
   ],
   "source": [
    "#folds = KFold(n_splits = 5, shuffle = True, random_state = 100)\n",
    "\n",
    "# identify parameters\n",
    "#param_grid = {'verbose': [True,False]} \n",
    "\n",
    "# perform grid search\n",
    "# specify model\n",
    "#estimators = [('ETR', ExtraTreesRegressor(n_estimators=900, max_depth=4))]\n",
    "#VR = VotingRegressor(estimators=estimators)\n",
    "#grid_pipeline_train_VR = GridSearchCV(estimator=VR, param_grid=param_grid, cv=folds, verbose=0)\n",
    "#grid_pipeline_train_VR.fit(X_train, y_train)\n",
    "#grid_pipeline_train_VR.best_params_"
   ]
  },
  {
   "cell_type": "code",
   "execution_count": 16,
   "id": "0af6f727-d88e-4863-b0a0-f7afca51ed83",
   "metadata": {},
   "outputs": [
    {
     "data": {
      "text/plain": [
       "{'criterion': 'squared_error', 'n_estimators': 50}"
      ]
     },
     "execution_count": 16,
     "metadata": {},
     "output_type": "execute_result"
    }
   ],
   "source": [
    "#from sklearn.model_selection import GridSearchCV\n",
    "#create a cross-validation scheme\n",
    "#folds = KFold(n_splits = 5, shuffle = True, random_state = 100)\n",
    "\n",
    "# identify parameters\n",
    "#param_grid = {'n_estimators': [50, 75, 100, 125, 150, 175, 200, 225, 250, 275, 300, 400, 500, 600, 700, 800, 900, 1000], \n",
    "#              'criterion' : ['squared_error','poisson','friedman_mse','absolute_error']}  \n",
    "\n",
    "# perform grid search\n",
    "# specify model\n",
    "#RFR = RandomForestRegressor()\n",
    "#grid_pipeline_train_RFR = GridSearchCV(estimator=RFR, param_grid=param_grid, cv=folds, verbose=0)\n",
    "#grid_pipeline_train_RFR.fit(X_train, y_train)\n",
    "#grid_pipeline_train_RFR.best_params_"
   ]
  },
  {
   "cell_type": "code",
   "execution_count": 35,
   "id": "91f140fc-9ba3-4f64-bfce-f3837d26746a",
   "metadata": {},
   "outputs": [],
   "source": [
    "#folds = KFold(n_splits = 5, shuffle = True, random_state = 100)\n",
    "\n",
    "# identify parameters\n",
    "#param_grid = {'cv': ['int','cross-validation generator','iterable','prefit', None]} \n",
    "\n",
    "# perform grid search\n",
    "# specify model\n",
    "#estimators = [('ETR', ExtraTreesRegressor(n_estimators=900, max_depth=4)),('RFR', RandomForestRegressor(n_estimators=50,criterion='squared_error')),('XGBR', XGBRegressor(n_estimators=150, max_depth=1,eta=0.5,subsample=0.1,colsample_bytree=1))]\n",
    "#SR = StackingRegressor(estimators=estimators, final_estimator=XGBRegressor(n_estimators=150, max_depth=1,eta=0.5,subsample=0.1,colsample_bytree=1))\n",
    "#grid_pipeline_train_SR = GridSearchCV(estimator=SR, param_grid=param_grid, cv=folds,verbose=0)\n",
    "#grid_pipeline_train_SR.fit(X_train, y_train)\n",
    "#grid_pipeline_train_SR.best_params_"
   ]
  },
  {
   "cell_type": "code",
   "execution_count": null,
   "id": "7e126c1c-13ca-46b4-991c-99fddef94ce7",
   "metadata": {},
   "outputs": [],
   "source": [
    "#from sklearn.model_selection import GridSearchCV\n",
    "#create a cross-validation scheme\n",
    "#folds = KFold(n_splits = 5, shuffle = True, random_state = 100)\n",
    "\n",
    "# identify parameters\n",
    "#param_grid = {'n_estimators': [50, 75, 100, 125, 150, 175, 200, 225, 250, 275, 300, 400, 500, 600, 700, 800, 900, 1000],\n",
    "#              'max_depth': [1,2,3,4,5,6,7,8,9,10,11,12,13,14,15,16,17,18,19,20],\n",
    "#              'eta':[0.1,0.15,0.2,0.25,0.3,0.35,0.4,0.45,0.5,0.55,0.6,0.65,0.7,0.75,0.8,0.85,0.9,0.95,1],\n",
    "#              'subsample':[0.1,0.15,0.2,0.25,0.3,0.35,0.4,0.45,0.5,0.55,0.6,0.65,0.7,0.75,0.8,0.85,0.9,0.95,1],\n",
    "#               'colsample_bytree':[0.1,0.15,0.2,0.25,0.3,0.35,0.4,0.45,0.5,0.55,0.6,0.65,0.7,0.75,0.8,0.85,0.9,0.95,1]}  \n",
    "\n",
    "# perform grid search\n",
    "# specify model\n",
    "#RFR = XGBRegressor()\n",
    "#grid_pipeline_train_XGBR = GridSearchCV(estimator=XGBR, param_grid=param_grid, cv=folds, verbose=0)\n",
    "#grid_pipeline_train_XGBR.fit(X_train, y_train)\n",
    "#grid_pipeline_train_XGBR.best_params_"
   ]
  },
  {
   "cell_type": "code",
   "execution_count": 69,
   "id": "56c20fd4-a819-421f-8375-2b0bcd429def",
   "metadata": {},
   "outputs": [
    {
     "data": {
      "text/plain": [
       "(3453, 132)"
      ]
     },
     "execution_count": 69,
     "metadata": {},
     "output_type": "execute_result"
    }
   ],
   "source": [
    "#train.shape"
   ]
  },
  {
   "cell_type": "code",
   "execution_count": 214,
   "id": "b13326ff-c7c1-46d5-bb13-91b5b59c497d",
   "metadata": {},
   "outputs": [
    {
     "data": {
      "text/plain": [
       "(3453,)"
      ]
     },
     "execution_count": 214,
     "metadata": {},
     "output_type": "execute_result"
    }
   ],
   "source": [
    "#y1 = y.head(3453)\n",
    "#y1.shape"
   ]
  },
  {
   "cell_type": "code",
   "execution_count": 77,
   "id": "e0547e84-49d0-4438-86a8-f1f12a3290fc",
   "metadata": {},
   "outputs": [],
   "source": [
    "fitted_pipe = pipe.fit(train, y)"
   ]
  },
  {
   "cell_type": "code",
   "execution_count": 211,
   "id": "67fa1dc4-dfd3-46d2-af5f-c364fdbb48e6",
   "metadata": {},
   "outputs": [
    {
     "name": "stdout",
     "output_type": "stream",
     "text": [
      "The number of sequences which are also in our historical data are 2\n"
     ]
    }
   ],
   "source": [
    "# We now have to fit out pipeline, this will just call the transform() and fit()\n",
    "# functions of the objects in the pipeline, but will not create new objects.\n",
    "#fitted_pipe=pipe.fit(train, y1)"
   ]
  },
  {
   "cell_type": "code",
   "execution_count": 217,
   "id": "6a90880f-c10d-491a-b9b8-e4bf2b09440d",
   "metadata": {},
   "outputs": [
    {
     "data": {
      "text/plain": [
       "(3453, 133)"
      ]
     },
     "execution_count": 217,
     "metadata": {},
     "output_type": "execute_result"
    }
   ],
   "source": [
    "#train.shape"
   ]
  },
  {
   "cell_type": "code",
   "execution_count": 218,
   "id": "7c341d77-0dd6-4da2-a141-2c38252467cc",
   "metadata": {},
   "outputs": [
    {
     "data": {
      "text/plain": [
       "(4444, 133)"
      ]
     },
     "execution_count": 218,
     "metadata": {},
     "output_type": "execute_result"
    }
   ],
   "source": [
    "#test.shape"
   ]
  },
  {
   "cell_type": "code",
   "execution_count": 197,
   "id": "694c3fc4-37ac-484b-868c-cc26e49f1400",
   "metadata": {},
   "outputs": [],
   "source": [
    "# And we can take that final regression object and observe the coefficients\n",
    "# to verify that we have four, two for sex, one for sexsequenceratio, and\n",
    "# one age\n",
    "#fitted_pipe.steps[-1][1].coef_"
   ]
  },
  {
   "cell_type": "code",
   "execution_count": 216,
   "id": "b6e67fce-a3a3-44b9-9668-0e36308f76e9",
   "metadata": {},
   "outputs": [
    {
     "data": {
      "text/plain": [
       "(3453,)"
      ]
     },
     "execution_count": 216,
     "metadata": {},
     "output_type": "execute_result"
    }
   ],
   "source": [
    "#y.shape"
   ]
  },
  {
   "cell_type": "code",
   "execution_count": 219,
   "id": "39347a4e-b375-4c3f-aed7-cddacb1d72f8",
   "metadata": {},
   "outputs": [
    {
     "data": {
      "text/plain": [
       "(3453,)"
      ]
     },
     "execution_count": 219,
     "metadata": {},
     "output_type": "execute_result"
    }
   ],
   "source": [
    "#y2 = y.head(4444)\n",
    "#y2.shape"
   ]
  },
  {
   "cell_type": "code",
   "execution_count": 222,
   "id": "ec6698df-1826-440a-8c7b-68c24b4ba03a",
   "metadata": {},
   "outputs": [
    {
     "data": {
      "text/plain": [
       "(3543, 133)"
      ]
     },
     "execution_count": 222,
     "metadata": {},
     "output_type": "execute_result"
    }
   ],
   "source": [
    "#test1 = test[:3543]\n",
    "#test1.shape"
   ]
  },
  {
   "cell_type": "code",
   "execution_count": 258,
   "id": "e01d7d99-2576-4d3c-8d6c-eeb5b0c80750",
   "metadata": {},
   "outputs": [],
   "source": [
    "# Finally we can now try this on unseen data\n",
    "#fitted_pipe.score(test1, y2)"
   ]
  },
  {
   "cell_type": "code",
   "execution_count": 22,
   "id": "621779d6-432a-4653-81a5-a321841f9936",
   "metadata": {},
   "outputs": [],
   "source": [
    "# define model evaluation method\n",
    "#cv = KFold(n_splits=5)\n",
    "# evaluate model\n",
    "#scores = cross_val_score(fitted_pipe, train, y, scoring='r2', cv=cv)\n",
    "# force scores to be positive\n",
    "#scores = abs(scores)\n",
    "#print('Mean MAE: %.3f (%.3f)' % (scores.mean(), scores.std()) )"
   ]
  },
  {
   "cell_type": "code",
   "execution_count": null,
   "id": "a7803a28-2e37-4637-b6f6-e78e26eaaffd",
   "metadata": {},
   "outputs": [],
   "source": [
    "#scores = cross_val_score(fitted_pipe, train, y, scoring='r2', cv=cv)\n",
    "#scores"
   ]
  },
  {
   "cell_type": "code",
   "execution_count": 78,
   "id": "5d9ffb39-f166-43a8-93fc-98acf2f8c9bb",
   "metadata": {},
   "outputs": [
    {
     "data": {
      "text/plain": [
       "0.14157594363325648"
      ]
     },
     "execution_count": 78,
     "metadata": {},
     "output_type": "execute_result"
    },
    {
     "data": {
      "image/png": "[encoded data removed]",
      "text/plain": [
       "<Figure size 432x288 with 1 Axes>"
      ]
     },
     "metadata": {
      "needs_background": "light"
     },
     "output_type": "display_data"
    }
   ],
   "source": [
    "#fitted_pipe = pipe.fit(train, y)\n",
    "\n",
    "# And we can save it to an output file\n",
    "cloudpickle.dump(fitted_pipe, open('pipeline.cloudpickle','wb'))\n",
    "\n",
    "pipeline_file='pipeline.cloudpickle'\n",
    "\n",
    "# Run prediction on each group\n",
    "results=holdout_data.groupby([\"event.id\",\"clean_categories.name\"]).apply(evaluate, pipeline_file)\n",
    "\n",
    "# Display the results, uncomment this for your own display\n",
    "results.reset_index()['score'].plot.bar();\n",
    "\n",
    "# This is the student final grade\n",
    "np.average(results)"
   ]
  },
  {
   "cell_type": "code",
   "execution_count": null,
   "id": "561a85fe-6374-419a-84aa-d6ec6e2a6640",
   "metadata": {},
   "outputs": [],
   "source": [
    "#marketing_cleaned = (marketing.pipe(drop_missing).pipe(remove_outliers, 'Salary').pipe(to_category))\n",
    "#cols = df.columns\n",
    "\n",
    "#1. Drop Rows with Null Columns\n",
    "#def drop_nulls(df, cols):\n",
    "#    df.dropna(subset=cols, inplace=True)\n",
    "#    return df\n",
    "\n",
    "#2. Fill Null Columns with Av Values\n",
    "#def fill_vals(df, cols):\n",
    "#    for i in cols:\n",
    "#        av=df[i].mean()\n",
    "#        df[i].fillna(av, inplace=True)\n",
    "#        return df\n",
    "    \n",
    "#3. Replace Strings with numbers and convert type\n",
    "#def replace_strings(df, cols):\n",
    "#    df.loc[df.query(\"'age' >= 119\").index, 'age']=np.nan\n",
    "#    df.loc[df.query(\"'age' <= 18\").index, 'age']=np.nan\n",
    "#    df['age']=df['age'].replace(np.nan, 38)\n",
    "#    df['price']=df['price'].replace(np.nan,49.0)\n",
    "#    df['bib']=df['bib'].replace(np.nan, 5202.0)\n",
    "#    df['counts.participants.expected']=df['counts.participants.expected'].replace(['150-300'],['300'])\n",
    "#    df['event.results_certificate']=df['event.results_certificate'].replace([False, 'False', '1', 1],[0,0,1,1])\n",
    "#    df['result.primary_bracket']=df['result.primary_bracket'].replace(['WHEELCHAIR','nan','Male 25-29','Male 40-44','Female 25-29','Female 20-24','wheelchair'],['Wheelchair','Overall','Male','Male','Female','Female','Wheelchair'])\n",
    "#    for i in cols:\n",
    "        #df[i].replace('3+', 4, inplace=True)\n",
    "#        df[i] = pd.to_numeric(df[i])\n",
    "        \n",
    "#        return df\n",
    "    \n",
    "#null_cols = ['Gender', 'Married', 'Dependents', 'Credit_History', 'Self_Employed', 'Loan_Amount_Term']\n",
    "#av_cols = ['LoanAmount']\n",
    "#rp_cols = ['Dependents']\n",
    "\n",
    "#df = df.pipe(drop_nulls, null_cols).pipe(fill_vals, av_cols).pipe(replace_strings, rp_cols)"
   ]
  },
  {
   "cell_type": "code",
   "execution_count": null,
   "id": "fa24f2d4-db27-4810-81bf-787d93244add",
   "metadata": {},
   "outputs": [],
   "source": [
    "#y_pred = clf.predict(X)\n",
    "#import numpy as np\n",
    "#def my_custom_loss_func(y_true, y_pred):\n",
    "#    diff = np.abs(y_true - y_pred).max()\n",
    "#    return np.log1p(diff)\n",
    "\n",
    "# score will negate the return value of my_custom_loss_func,\n",
    "# which will be np.log(2), 0.693, given the values for X\n",
    "# and y defined below.\n",
    "#score = make_scorer(my_custom_loss_func, greater_is_better=False)\n",
    "#X = train\n",
    "\n",
    "#from sklearn.dummy import DummyClassifier\n",
    "#clf = DummyClassifier(strategy='most_frequent', random_state=0)\n",
    "#clf = clf.fit(X, y)\n",
    "#my_custom_loss_func(y, clf.predict(X))"
   ]
  },
  {
   "cell_type": "code",
   "execution_count": null,
   "id": "79c78bb0-8876-45f8-8eee-c88bd98fa4ed",
   "metadata": {},
   "outputs": [],
   "source": [
    "#score(clf, X, y)"
   ]
  },
  {
   "cell_type": "code",
   "execution_count": null,
   "id": "4aa604b9-6b90-4239-8e72-2fef929408a1",
   "metadata": {},
   "outputs": [],
   "source": []
  },
  {
   "cell_type": "code",
   "execution_count": null,
   "id": "d4f854f2-6bb6-4c1b-a604-f604714bbc26",
   "metadata": {},
   "outputs": [],
   "source": []
  },
  {
   "cell_type": "code",
   "execution_count": null,
   "id": "45ccf942-8202-43fd-a9d9-b1e69fb520c3",
   "metadata": {},
   "outputs": [],
   "source": []
  },
  {
   "cell_type": "code",
   "execution_count": null,
   "id": "2e05021a-fa33-452b-b1e9-4a06a424a865",
   "metadata": {},
   "outputs": [],
   "source": []
  },
  {
   "cell_type": "code",
   "execution_count": null,
   "id": "cb6f8a1c-ee61-4d17-90a3-405ccfea56ce",
   "metadata": {},
   "outputs": [],
   "source": []
  }
 ],
 "metadata": {
  "coursera": {
   "schema_names": [
    "mads_sports_analytics_v1_assignment"
   ]
  },
  "kernelspec": {
   "display_name": "Python 3 (ipykernel)",
   "language": "python",
   "name": "python3"
  },
  "language_info": {
   "codemirror_mode": {
    "name": "ipython",
    "version": 3
   },
   "file_extension": ".py",
   "mimetype": "text/x-python",
   "name": "python",
   "nbconvert_exporter": "python",
   "pygments_lexer": "ipython3",
   "version": "3.8.10"
  }
 },
 "nbformat": 4,
 "nbformat_minor": 5
}
